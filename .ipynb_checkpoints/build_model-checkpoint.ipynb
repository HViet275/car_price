{
 "cells": [
  {
   "cell_type": "markdown",
   "metadata": {
    "id": "oH5m0J_kHph3"
   },
   "source": [
    "# **Data Preparation**\n",
    "1.   Import các thư viện cần thiết\n",
    "2.   Đọc dữ liệu\n",
    "3.   Khám phá dữ liệu (EDA)"
   ]
  },
  {
   "cell_type": "markdown",
   "metadata": {
    "id": "NZrtsHPsIkoj"
   },
   "source": [
    "## Import thư viện"
   ]
  },
  {
   "cell_type": "code",
   "execution_count": 56,
   "metadata": {
    "id": "zTSHfcPWpJ4g"
   },
   "outputs": [],
   "source": [
    "# Import libraries\n",
    "import pandas as pd \n",
    "import numpy as np\n",
    "import matplotlib.pyplot as plt\n",
    "import seaborn as sns"
   ]
  },
  {
   "cell_type": "markdown",
   "metadata": {
    "id": "LUEPn0a8Ionz"
   },
   "source": [
    "## Đọc dữ liệu"
   ]
  },
  {
   "cell_type": "code",
   "execution_count": 57,
   "metadata": {
    "colab": {
     "base_uri": "https://localhost:8080/"
    },
    "id": "4Zk3yp69pecI",
    "outputId": "04952be9-daf7-46d6-9e61-f2020884538a"
   },
   "outputs": [
    {
     "data": {
      "text/plain": [
       "['vauxhall.csv',\n",
       " 'bmw.csv',\n",
       " 'vw.csv',\n",
       " 'hyundi.csv',\n",
       " 'audi.csv',\n",
       " 'toyota.csv',\n",
       " 'ford.csv',\n",
       " 'focus.csv',\n",
       " 'skoda.csv',\n",
       " 'merc.csv']"
      ]
     },
     "execution_count": 57,
     "metadata": {},
     "output_type": "execute_result"
    }
   ],
   "source": [
    "import os\n",
    "from os import listdir\n",
    "dirs = os.listdir('data') # Lấy danh sách các file trong folder\n",
    "dirs"
   ]
  },
  {
   "cell_type": "code",
   "execution_count": 58,
   "metadata": {
    "colab": {
     "base_uri": "https://localhost:8080/"
    },
    "id": "BkD_bz8IJR0r",
    "outputId": "88f2b3a6-c356-4520-bbb7-87fef23bdc2f"
   },
   "outputs": [
    {
     "name": "stdout",
     "output_type": "stream",
     "text": [
      "vauxhall.csv : Index(['model', 'year', 'price', 'transmission', 'mileage', 'fuelType', 'tax',\n",
      "       'mpg', 'engineSize'],\n",
      "      dtype='object')\n",
      "---\n",
      "bmw.csv : Index(['model', 'year', 'price', 'transmission', 'mileage', 'fuelType', 'tax',\n",
      "       'mpg', 'engineSize'],\n",
      "      dtype='object')\n",
      "---\n",
      "vw.csv : Index(['model', 'year', 'price', 'transmission', 'mileage', 'fuelType', 'tax',\n",
      "       'mpg', 'engineSize'],\n",
      "      dtype='object')\n",
      "---\n",
      "hyundi.csv : Index(['model', 'year', 'price', 'transmission', 'mileage', 'fuelType',\n",
      "       'tax(£)', 'mpg', 'engineSize'],\n",
      "      dtype='object')\n",
      "---\n",
      "audi.csv : Index(['model', 'year', 'price', 'transmission', 'mileage', 'fuelType', 'tax',\n",
      "       'mpg', 'engineSize'],\n",
      "      dtype='object')\n",
      "---\n",
      "toyota.csv : Index(['model', 'year', 'price', 'transmission', 'mileage', 'fuelType', 'tax',\n",
      "       'mpg', 'engineSize'],\n",
      "      dtype='object')\n",
      "---\n",
      "ford.csv : Index(['model', 'year', 'price', 'transmission', 'mileage', 'fuelType', 'tax',\n",
      "       'mpg', 'engineSize'],\n",
      "      dtype='object')\n",
      "---\n",
      "focus.csv : Index(['model', 'year', 'price', 'transmission', 'mileage', 'fuelType',\n",
      "       'engineSize'],\n",
      "      dtype='object')\n",
      "---\n",
      "skoda.csv : Index(['model', 'year', 'price', 'transmission', 'mileage', 'fuelType', 'tax',\n",
      "       'mpg', 'engineSize'],\n",
      "      dtype='object')\n",
      "---\n",
      "merc.csv : Index(['model', 'year', 'price', 'transmission', 'mileage', 'fuelType', 'tax',\n",
      "       'mpg', 'engineSize'],\n",
      "      dtype='object')\n",
      "---\n"
     ]
    }
   ],
   "source": [
    "#Kiểm tra các cột dữ liệu\n",
    "\n",
    "basic = 'data/'\n",
    "df = pd.DataFrame(data = None)\n",
    "for file in dirs:\n",
    "  url =  basic + file\n",
    "  new_df = pd.read_csv(url)\n",
    "  print(file, \":\",new_df.columns)\n",
    "  print(\"---\")\n",
    "  # df = pd.concat([df,new_df])"
   ]
  },
  {
   "cell_type": "markdown",
   "metadata": {
    "id": "HtwdxVgbJxay"
   },
   "source": [
    "\n",
    "\n",
    "> **Trong file của hãng xe hyundi cột thuế có tên là tax(£) thay vì tax nên Ta phải đổi tên cột trong file này**\n",
    "\n"
   ]
  },
  {
   "cell_type": "code",
   "execution_count": 59,
   "metadata": {
    "colab": {
     "base_uri": "https://localhost:8080/"
    },
    "id": "c6eWxsY6JwQc",
    "outputId": "505ce3f1-874b-41f4-c0e9-7020d4acbfa8"
   },
   "outputs": [
    {
     "data": {
      "text/html": [
       "<div>\n",
       "<style scoped>\n",
       "    .dataframe tbody tr th:only-of-type {\n",
       "        vertical-align: middle;\n",
       "    }\n",
       "\n",
       "    .dataframe tbody tr th {\n",
       "        vertical-align: top;\n",
       "    }\n",
       "\n",
       "    .dataframe thead th {\n",
       "        text-align: right;\n",
       "    }\n",
       "</style>\n",
       "<table border=\"1\" class=\"dataframe\">\n",
       "  <thead>\n",
       "    <tr style=\"text-align: right;\">\n",
       "      <th></th>\n",
       "      <th>model</th>\n",
       "      <th>year</th>\n",
       "      <th>price</th>\n",
       "      <th>transmission</th>\n",
       "      <th>mileage</th>\n",
       "      <th>fuelType</th>\n",
       "      <th>tax</th>\n",
       "      <th>mpg</th>\n",
       "      <th>engineSize</th>\n",
       "      <th>automaker</th>\n",
       "    </tr>\n",
       "  </thead>\n",
       "  <tbody>\n",
       "    <tr>\n",
       "      <th>0</th>\n",
       "      <td>Corsa</td>\n",
       "      <td>2018</td>\n",
       "      <td>7885</td>\n",
       "      <td>Manual</td>\n",
       "      <td>9876</td>\n",
       "      <td>Petrol</td>\n",
       "      <td>145.0</td>\n",
       "      <td>55.4</td>\n",
       "      <td>1.4</td>\n",
       "      <td>vauxhall</td>\n",
       "    </tr>\n",
       "    <tr>\n",
       "      <th>1</th>\n",
       "      <td>Corsa</td>\n",
       "      <td>2019</td>\n",
       "      <td>11995</td>\n",
       "      <td>Manual</td>\n",
       "      <td>2500</td>\n",
       "      <td>Petrol</td>\n",
       "      <td>145.0</td>\n",
       "      <td>54.3</td>\n",
       "      <td>1.4</td>\n",
       "      <td>vauxhall</td>\n",
       "    </tr>\n",
       "    <tr>\n",
       "      <th>2</th>\n",
       "      <td>Corsa</td>\n",
       "      <td>2017</td>\n",
       "      <td>9777</td>\n",
       "      <td>Automatic</td>\n",
       "      <td>9625</td>\n",
       "      <td>Petrol</td>\n",
       "      <td>145.0</td>\n",
       "      <td>47.9</td>\n",
       "      <td>1.4</td>\n",
       "      <td>vauxhall</td>\n",
       "    </tr>\n",
       "    <tr>\n",
       "      <th>3</th>\n",
       "      <td>Corsa</td>\n",
       "      <td>2016</td>\n",
       "      <td>8500</td>\n",
       "      <td>Manual</td>\n",
       "      <td>25796</td>\n",
       "      <td>Petrol</td>\n",
       "      <td>30.0</td>\n",
       "      <td>55.4</td>\n",
       "      <td>1.4</td>\n",
       "      <td>vauxhall</td>\n",
       "    </tr>\n",
       "    <tr>\n",
       "      <th>4</th>\n",
       "      <td>Corsa</td>\n",
       "      <td>2019</td>\n",
       "      <td>10000</td>\n",
       "      <td>Manual</td>\n",
       "      <td>3887</td>\n",
       "      <td>Petrol</td>\n",
       "      <td>145.0</td>\n",
       "      <td>43.5</td>\n",
       "      <td>1.4</td>\n",
       "      <td>vauxhall</td>\n",
       "    </tr>\n",
       "  </tbody>\n",
       "</table>\n",
       "</div>"
      ],
      "text/plain": [
       "    model  year  price transmission  mileage fuelType    tax   mpg  \\\n",
       "0   Corsa  2018   7885       Manual     9876   Petrol  145.0  55.4   \n",
       "1   Corsa  2019  11995       Manual     2500   Petrol  145.0  54.3   \n",
       "2   Corsa  2017   9777    Automatic     9625   Petrol  145.0  47.9   \n",
       "3   Corsa  2016   8500       Manual    25796   Petrol   30.0  55.4   \n",
       "4   Corsa  2019  10000       Manual     3887   Petrol  145.0  43.5   \n",
       "\n",
       "   engineSize automaker  \n",
       "0         1.4  vauxhall  \n",
       "1         1.4  vauxhall  \n",
       "2         1.4  vauxhall  \n",
       "3         1.4  vauxhall  \n",
       "4         1.4  vauxhall  "
      ]
     },
     "execution_count": 59,
     "metadata": {},
     "output_type": "execute_result"
    }
   ],
   "source": [
    "#Integration data\n",
    "\n",
    "basic = 'data/'\n",
    "df = pd.DataFrame(data = None)\n",
    "for file in dirs:\n",
    "  url =  basic + file\n",
    "  new_df = pd.read_csv(url) #đọc từng file trong folder\n",
    "  new_df['automaker'] = file.split(\".\")[0] #tạo cột hãng xe\n",
    "  if file == 'hyundi.csv': \n",
    "    new_df.rename(columns = {'tax(£)': 'tax'}, inplace =True) #đổi tên cột thuế\n",
    "  df = pd.concat([df,new_df]) #gộp file\n",
    "df.head()"
   ]
  },
  {
   "cell_type": "markdown",
   "metadata": {
    "id": "nlx4cVTqKtf8"
   },
   "source": [
    "## Exploratory data analysis (EDA)"
   ]
  },
  {
   "cell_type": "markdown",
   "metadata": {
    "id": "EjhDGBAfMI1Z"
   },
   "source": [
    "**Preview data**"
   ]
  },
  {
   "cell_type": "code",
   "execution_count": 60,
   "metadata": {
    "colab": {
     "base_uri": "https://localhost:8080/"
    },
    "id": "I-w_Az0-Lxss",
    "outputId": "9b22b7c2-c44a-4d4a-e177-3efc05f80b4d"
   },
   "outputs": [
    {
     "data": {
      "text/plain": [
       "Index(['model', 'year', 'price', 'transmission', 'mileage', 'fuelType', 'tax',\n",
       "       'mpg', 'engineSize', 'automaker'],\n",
       "      dtype='object')"
      ]
     },
     "execution_count": 60,
     "metadata": {},
     "output_type": "execute_result"
    }
   ],
   "source": [
    "# Cột dữ liệu\n",
    "\n",
    "df.columns"
   ]
  },
  {
   "cell_type": "code",
   "execution_count": 61,
   "metadata": {
    "colab": {
     "base_uri": "https://localhost:8080/"
    },
    "id": "Q0bd7wgDp0p9",
    "outputId": "b419d00b-5065-4775-8061-98a94aefca9b"
   },
   "outputs": [
    {
     "name": "stdout",
     "output_type": "stream",
     "text": [
      "<class 'pandas.core.frame.DataFrame'>\n",
      "Int64Index: 104641 entries, 0 to 13118\n",
      "Data columns (total 10 columns):\n",
      " #   Column        Non-Null Count   Dtype  \n",
      "---  ------        --------------   -----  \n",
      " 0   model         104641 non-null  object \n",
      " 1   year          104641 non-null  int64  \n",
      " 2   price         104641 non-null  int64  \n",
      " 3   transmission  104641 non-null  object \n",
      " 4   mileage       104641 non-null  int64  \n",
      " 5   fuelType      104641 non-null  object \n",
      " 6   tax           99187 non-null   float64\n",
      " 7   mpg           99187 non-null   float64\n",
      " 8   engineSize    104641 non-null  float64\n",
      " 9   automaker     104641 non-null  object \n",
      "dtypes: float64(3), int64(3), object(4)\n",
      "memory usage: 8.8+ MB\n"
     ]
    }
   ],
   "source": [
    "df.info()"
   ]
  },
  {
   "cell_type": "code",
   "execution_count": 62,
   "metadata": {
    "colab": {
     "base_uri": "https://localhost:8080/",
     "height": 206
    },
    "id": "AwJ-WX62L4iv",
    "outputId": "5f1fc49c-ef73-4014-fbf4-e507553c18a2"
   },
   "outputs": [
    {
     "data": {
      "text/html": [
       "<div>\n",
       "<style scoped>\n",
       "    .dataframe tbody tr th:only-of-type {\n",
       "        vertical-align: middle;\n",
       "    }\n",
       "\n",
       "    .dataframe tbody tr th {\n",
       "        vertical-align: top;\n",
       "    }\n",
       "\n",
       "    .dataframe thead th {\n",
       "        text-align: right;\n",
       "    }\n",
       "</style>\n",
       "<table border=\"1\" class=\"dataframe\">\n",
       "  <thead>\n",
       "    <tr style=\"text-align: right;\">\n",
       "      <th></th>\n",
       "      <th>model</th>\n",
       "      <th>year</th>\n",
       "      <th>price</th>\n",
       "      <th>transmission</th>\n",
       "      <th>mileage</th>\n",
       "      <th>fuelType</th>\n",
       "      <th>tax</th>\n",
       "      <th>mpg</th>\n",
       "      <th>engineSize</th>\n",
       "      <th>automaker</th>\n",
       "    </tr>\n",
       "  </thead>\n",
       "  <tbody>\n",
       "    <tr>\n",
       "      <th>0</th>\n",
       "      <td>Corsa</td>\n",
       "      <td>2018</td>\n",
       "      <td>7885</td>\n",
       "      <td>Manual</td>\n",
       "      <td>9876</td>\n",
       "      <td>Petrol</td>\n",
       "      <td>145.0</td>\n",
       "      <td>55.4</td>\n",
       "      <td>1.4</td>\n",
       "      <td>vauxhall</td>\n",
       "    </tr>\n",
       "    <tr>\n",
       "      <th>1</th>\n",
       "      <td>Corsa</td>\n",
       "      <td>2019</td>\n",
       "      <td>11995</td>\n",
       "      <td>Manual</td>\n",
       "      <td>2500</td>\n",
       "      <td>Petrol</td>\n",
       "      <td>145.0</td>\n",
       "      <td>54.3</td>\n",
       "      <td>1.4</td>\n",
       "      <td>vauxhall</td>\n",
       "    </tr>\n",
       "    <tr>\n",
       "      <th>2</th>\n",
       "      <td>Corsa</td>\n",
       "      <td>2017</td>\n",
       "      <td>9777</td>\n",
       "      <td>Automatic</td>\n",
       "      <td>9625</td>\n",
       "      <td>Petrol</td>\n",
       "      <td>145.0</td>\n",
       "      <td>47.9</td>\n",
       "      <td>1.4</td>\n",
       "      <td>vauxhall</td>\n",
       "    </tr>\n",
       "    <tr>\n",
       "      <th>3</th>\n",
       "      <td>Corsa</td>\n",
       "      <td>2016</td>\n",
       "      <td>8500</td>\n",
       "      <td>Manual</td>\n",
       "      <td>25796</td>\n",
       "      <td>Petrol</td>\n",
       "      <td>30.0</td>\n",
       "      <td>55.4</td>\n",
       "      <td>1.4</td>\n",
       "      <td>vauxhall</td>\n",
       "    </tr>\n",
       "    <tr>\n",
       "      <th>4</th>\n",
       "      <td>Corsa</td>\n",
       "      <td>2019</td>\n",
       "      <td>10000</td>\n",
       "      <td>Manual</td>\n",
       "      <td>3887</td>\n",
       "      <td>Petrol</td>\n",
       "      <td>145.0</td>\n",
       "      <td>43.5</td>\n",
       "      <td>1.4</td>\n",
       "      <td>vauxhall</td>\n",
       "    </tr>\n",
       "  </tbody>\n",
       "</table>\n",
       "</div>"
      ],
      "text/plain": [
       "    model  year  price transmission  mileage fuelType    tax   mpg  \\\n",
       "0   Corsa  2018   7885       Manual     9876   Petrol  145.0  55.4   \n",
       "1   Corsa  2019  11995       Manual     2500   Petrol  145.0  54.3   \n",
       "2   Corsa  2017   9777    Automatic     9625   Petrol  145.0  47.9   \n",
       "3   Corsa  2016   8500       Manual    25796   Petrol   30.0  55.4   \n",
       "4   Corsa  2019  10000       Manual     3887   Petrol  145.0  43.5   \n",
       "\n",
       "   engineSize automaker  \n",
       "0         1.4  vauxhall  \n",
       "1         1.4  vauxhall  \n",
       "2         1.4  vauxhall  \n",
       "3         1.4  vauxhall  \n",
       "4         1.4  vauxhall  "
      ]
     },
     "execution_count": 62,
     "metadata": {},
     "output_type": "execute_result"
    }
   ],
   "source": [
    "df.head()"
   ]
  },
  {
   "cell_type": "markdown",
   "metadata": {
    "id": "-g4DwKu9L3r6"
   },
   "source": [
    " Phân loại categorical và numerical columns "
   ]
  },
  {
   "cell_type": "code",
   "execution_count": 63,
   "metadata": {
    "colab": {
     "base_uri": "https://localhost:8080/"
    },
    "id": "pVYmrHXVMsXi",
    "outputId": "080fe8be-2713-4a0c-d386-0697e0de0857"
   },
   "outputs": [
    {
     "name": "stdout",
     "output_type": "stream",
     "text": [
      "<class 'pandas.core.frame.DataFrame'>\n",
      "Int64Index: 104641 entries, 0 to 13118\n",
      "Data columns (total 10 columns):\n",
      " #   Column        Non-Null Count   Dtype   \n",
      "---  ------        --------------   -----   \n",
      " 0   model         104641 non-null  category\n",
      " 1   year          104641 non-null  int64   \n",
      " 2   price         104641 non-null  int64   \n",
      " 3   transmission  104641 non-null  category\n",
      " 4   mileage       104641 non-null  int64   \n",
      " 5   fuelType      104641 non-null  category\n",
      " 6   tax           99187 non-null   float64 \n",
      " 7   mpg           99187 non-null   float64 \n",
      " 8   engineSize    104641 non-null  float64 \n",
      " 9   automaker     104641 non-null  category\n",
      "dtypes: category(4), float64(3), int64(3)\n",
      "memory usage: 6.1 MB\n"
     ]
    }
   ],
   "source": [
    "# Chuyển tất cả các cột có kiểu dữ liệu là object sang categorical\n",
    "\n",
    "categorical_cols = ['model','transmission','fuelType','automaker']\n",
    "for categorical_col in categorical_cols:\n",
    "  df[categorical_col] = df[categorical_col].astype('category')\n",
    "df.info()"
   ]
  },
  {
   "cell_type": "markdown",
   "metadata": {
    "id": "pPF2a2EMNkQq"
   },
   "source": [
    "** Xem phân bổ của các biến **"
   ]
  },
  {
   "cell_type": "markdown",
   "metadata": {
    "id": "_eUXSkQyb_2l"
   },
   "source": [
    "Đối với biến Numerical"
   ]
  },
  {
   "cell_type": "code",
   "execution_count": 64,
   "metadata": {
    "colab": {
     "base_uri": "https://localhost:8080/",
     "height": 300
    },
    "id": "HagccXc-NZgb",
    "outputId": "eb5920f9-2c24-4847-fb69-6731065434d0"
   },
   "outputs": [
    {
     "data": {
      "text/html": [
       "<div>\n",
       "<style scoped>\n",
       "    .dataframe tbody tr th:only-of-type {\n",
       "        vertical-align: middle;\n",
       "    }\n",
       "\n",
       "    .dataframe tbody tr th {\n",
       "        vertical-align: top;\n",
       "    }\n",
       "\n",
       "    .dataframe thead th {\n",
       "        text-align: right;\n",
       "    }\n",
       "</style>\n",
       "<table border=\"1\" class=\"dataframe\">\n",
       "  <thead>\n",
       "    <tr style=\"text-align: right;\">\n",
       "      <th></th>\n",
       "      <th>year</th>\n",
       "      <th>price</th>\n",
       "      <th>mileage</th>\n",
       "      <th>tax</th>\n",
       "      <th>mpg</th>\n",
       "      <th>engineSize</th>\n",
       "    </tr>\n",
       "  </thead>\n",
       "  <tbody>\n",
       "    <tr>\n",
       "      <th>count</th>\n",
       "      <td>104641.000000</td>\n",
       "      <td>104641.000000</td>\n",
       "      <td>104641.00000</td>\n",
       "      <td>99187.000000</td>\n",
       "      <td>99187.000000</td>\n",
       "      <td>104641.000000</td>\n",
       "    </tr>\n",
       "    <tr>\n",
       "      <th>mean</th>\n",
       "      <td>2017.089066</td>\n",
       "      <td>16637.341186</td>\n",
       "      <td>23049.41090</td>\n",
       "      <td>120.299838</td>\n",
       "      <td>55.166825</td>\n",
       "      <td>1.647643</td>\n",
       "    </tr>\n",
       "    <tr>\n",
       "      <th>std</th>\n",
       "      <td>2.126373</td>\n",
       "      <td>9693.391294</td>\n",
       "      <td>21120.06364</td>\n",
       "      <td>63.150926</td>\n",
       "      <td>16.138522</td>\n",
       "      <td>0.554577</td>\n",
       "    </tr>\n",
       "    <tr>\n",
       "      <th>min</th>\n",
       "      <td>1970.000000</td>\n",
       "      <td>450.000000</td>\n",
       "      <td>1.00000</td>\n",
       "      <td>0.000000</td>\n",
       "      <td>0.300000</td>\n",
       "      <td>0.000000</td>\n",
       "    </tr>\n",
       "    <tr>\n",
       "      <th>25%</th>\n",
       "      <td>2016.000000</td>\n",
       "      <td>10000.000000</td>\n",
       "      <td>7530.00000</td>\n",
       "      <td>125.000000</td>\n",
       "      <td>47.100000</td>\n",
       "      <td>1.200000</td>\n",
       "    </tr>\n",
       "    <tr>\n",
       "      <th>50%</th>\n",
       "      <td>2017.000000</td>\n",
       "      <td>14440.000000</td>\n",
       "      <td>17360.00000</td>\n",
       "      <td>145.000000</td>\n",
       "      <td>54.300000</td>\n",
       "      <td>1.500000</td>\n",
       "    </tr>\n",
       "    <tr>\n",
       "      <th>75%</th>\n",
       "      <td>2019.000000</td>\n",
       "      <td>20395.000000</td>\n",
       "      <td>32234.00000</td>\n",
       "      <td>145.000000</td>\n",
       "      <td>62.800000</td>\n",
       "      <td>2.000000</td>\n",
       "    </tr>\n",
       "    <tr>\n",
       "      <th>max</th>\n",
       "      <td>2060.000000</td>\n",
       "      <td>159999.000000</td>\n",
       "      <td>323000.00000</td>\n",
       "      <td>580.000000</td>\n",
       "      <td>470.800000</td>\n",
       "      <td>6.600000</td>\n",
       "    </tr>\n",
       "  </tbody>\n",
       "</table>\n",
       "</div>"
      ],
      "text/plain": [
       "                year          price       mileage           tax           mpg  \\\n",
       "count  104641.000000  104641.000000  104641.00000  99187.000000  99187.000000   \n",
       "mean     2017.089066   16637.341186   23049.41090    120.299838     55.166825   \n",
       "std         2.126373    9693.391294   21120.06364     63.150926     16.138522   \n",
       "min      1970.000000     450.000000       1.00000      0.000000      0.300000   \n",
       "25%      2016.000000   10000.000000    7530.00000    125.000000     47.100000   \n",
       "50%      2017.000000   14440.000000   17360.00000    145.000000     54.300000   \n",
       "75%      2019.000000   20395.000000   32234.00000    145.000000     62.800000   \n",
       "max      2060.000000  159999.000000  323000.00000    580.000000    470.800000   \n",
       "\n",
       "          engineSize  \n",
       "count  104641.000000  \n",
       "mean        1.647643  \n",
       "std         0.554577  \n",
       "min         0.000000  \n",
       "25%         1.200000  \n",
       "50%         1.500000  \n",
       "75%         2.000000  \n",
       "max         6.600000  "
      ]
     },
     "execution_count": 64,
     "metadata": {},
     "output_type": "execute_result"
    }
   ],
   "source": [
    "# Đối với biến Numerical\n",
    "\n",
    "numerical_cols = ['year','price','mileage','tax','mpg','engineSize']\n",
    "\n",
    "df[numerical_cols].describe()"
   ]
  },
  {
   "cell_type": "code",
   "execution_count": 65,
   "metadata": {
    "colab": {
     "base_uri": "https://localhost:8080/"
    },
    "id": "lcRftq4mT3fZ",
    "outputId": "410ecd99-d578-4acb-e448-a3e5191853c5"
   },
   "outputs": [
    {
     "name": "stdout",
     "output_type": "stream",
     "text": [
      "year column has 27 distinct values\n",
      "It takes 0.03 %\n",
      "---\n",
      "price column has 13271 distinct values\n",
      "It takes 12.68 %\n",
      "---\n",
      "mileage column has 42277 distinct values\n",
      "It takes 40.40 %\n",
      "---\n",
      "tax column has 48 distinct values\n",
      "It takes 0.05 %\n",
      "---\n",
      "mpg column has 208 distinct values\n",
      "It takes 0.20 %\n",
      "---\n",
      "engineSize column has 40 distinct values\n",
      "It takes 0.04 %\n",
      "---\n"
     ]
    }
   ],
   "source": [
    "# Đếm số giá trị riêng biệt trong biến định lượng\n",
    "distincts = []\n",
    "percents = []\n",
    "for numerical_col in numerical_cols:\n",
    "  distinct = df[numerical_col].nunique()\n",
    "  percent = distinct*100/df.shape[0]\n",
    "  print(numerical_col, 'column has',distinct,'distinct values')\n",
    "  print('It takes', format(percent,'.2f'),'%')\n",
    "  print('---')\n",
    "  distincts.append(distinct)\n",
    "  percents.append(format(percent,'.2f')+'%')\n",
    "data = {'Count Distinct': distincts,'Take Percent':percents}"
   ]
  },
  {
   "cell_type": "code",
   "execution_count": 66,
   "metadata": {
    "colab": {
     "base_uri": "https://localhost:8080/",
     "height": 238
    },
    "id": "nD2Z2XMuWKVu",
    "outputId": "37decc4e-be45-4860-e778-f8a176de0979"
   },
   "outputs": [
    {
     "data": {
      "text/html": [
       "<div>\n",
       "<style scoped>\n",
       "    .dataframe tbody tr th:only-of-type {\n",
       "        vertical-align: middle;\n",
       "    }\n",
       "\n",
       "    .dataframe tbody tr th {\n",
       "        vertical-align: top;\n",
       "    }\n",
       "\n",
       "    .dataframe thead th {\n",
       "        text-align: right;\n",
       "    }\n",
       "</style>\n",
       "<table border=\"1\" class=\"dataframe\">\n",
       "  <thead>\n",
       "    <tr style=\"text-align: right;\">\n",
       "      <th></th>\n",
       "      <th>Count Distinct</th>\n",
       "      <th>Take Percent</th>\n",
       "    </tr>\n",
       "  </thead>\n",
       "  <tbody>\n",
       "    <tr>\n",
       "      <th>year</th>\n",
       "      <td>27</td>\n",
       "      <td>0.03%</td>\n",
       "    </tr>\n",
       "    <tr>\n",
       "      <th>price</th>\n",
       "      <td>13271</td>\n",
       "      <td>12.68%</td>\n",
       "    </tr>\n",
       "    <tr>\n",
       "      <th>mileage</th>\n",
       "      <td>42277</td>\n",
       "      <td>40.40%</td>\n",
       "    </tr>\n",
       "    <tr>\n",
       "      <th>tax</th>\n",
       "      <td>48</td>\n",
       "      <td>0.05%</td>\n",
       "    </tr>\n",
       "    <tr>\n",
       "      <th>mpg</th>\n",
       "      <td>208</td>\n",
       "      <td>0.20%</td>\n",
       "    </tr>\n",
       "    <tr>\n",
       "      <th>engineSize</th>\n",
       "      <td>40</td>\n",
       "      <td>0.04%</td>\n",
       "    </tr>\n",
       "  </tbody>\n",
       "</table>\n",
       "</div>"
      ],
      "text/plain": [
       "            Count Distinct Take Percent\n",
       "year                    27        0.03%\n",
       "price                13271       12.68%\n",
       "mileage              42277       40.40%\n",
       "tax                     48        0.05%\n",
       "mpg                    208        0.20%\n",
       "engineSize              40        0.04%"
      ]
     },
     "execution_count": 66,
     "metadata": {},
     "output_type": "execute_result"
    }
   ],
   "source": [
    "# Xem dưới dạng bảng thống kê\n",
    "\n",
    "pd.DataFrame (data = data, index = numerical_cols)"
   ]
  },
  {
   "cell_type": "markdown",
   "metadata": {
    "id": "GiXhYHEmWmcf"
   },
   "source": [
    "\n",
    "\n",
    "> **Những biến định lượng có ít giá trị riêng biệt sẽ được nhóm cụm và chuyển thành biến category >> Chia theo tứ phân vị**\n",
    "\n"
   ]
  },
  {
   "cell_type": "code",
   "execution_count": 67,
   "metadata": {
    "colab": {
     "base_uri": "https://localhost:8080/",
     "height": 556
    },
    "id": "EhraaewNXz9i",
    "outputId": "5ffb9d03-7907-442f-bc1b-4f7e4865aa2e"
   },
   "outputs": [
    {
     "data": {
      "text/plain": [
       "<matplotlib.collections.PathCollection at 0x7fd118780df0>"
      ]
     },
     "execution_count": 67,
     "metadata": {},
     "output_type": "execute_result"
    },
    {
     "data": {
      "image/png": "[encoded data removed]",
      "text/plain": [
       "<Figure size 800x550 with 1 Axes>"
      ]
     },
     "metadata": {},
     "output_type": "display_data"
    }
   ],
   "source": [
    "# Xem độ tương quan giữa giá xe và tổng số dặm đã đi (mileage)\n",
    "\n",
    "plt.style.use('seaborn')\n",
    "\n",
    "plt.scatter(data = df, x='mileage',y='price')"
   ]
  },
  {
   "cell_type": "markdown",
   "metadata": {
    "id": "TwYi0DiiZYt5"
   },
   "source": [
    "\n",
    "\n",
    "> Ta chưa thấy nhiều tương quan giữa 2 biến trên >> Thử logarit biến milleage\n",
    "\n"
   ]
  },
  {
   "cell_type": "code",
   "execution_count": 68,
   "metadata": {
    "colab": {
     "base_uri": "https://localhost:8080/",
     "height": 501
    },
    "id": "aOeY_CioYwy9",
    "outputId": "00e9782d-f583-4b60-8a4b-4b976c7f3907"
   },
   "outputs": [
    {
     "data": {
      "text/plain": [
       "<matplotlib.collections.PathCollection at 0x7fd11af26880>"
      ]
     },
     "execution_count": 68,
     "metadata": {},
     "output_type": "execute_result"
    },
    {
     "data": {
      "image/png": "[encoded data removed]",
      "text/plain": [
       "<Figure size 800x550 with 1 Axes>"
      ]
     },
     "metadata": {},
     "output_type": "display_data"
    }
   ],
   "source": [
    "import math\n",
    "df['ln_mileage'] = df['mileage'].apply(lambda x: math.log(x))\n",
    "\n",
    "plt.scatter(data = df, x='ln_mileage',y='price')"
   ]
  },
  {
   "cell_type": "code",
   "execution_count": 69,
   "metadata": {
    "colab": {
     "base_uri": "https://localhost:8080/",
     "height": 112
    },
    "id": "FzmxMUM9ZL5X",
    "outputId": "37b514fd-762d-4e86-d9d2-8714c587325d"
   },
   "outputs": [
    {
     "data": {
      "text/html": [
       "<div>\n",
       "<style scoped>\n",
       "    .dataframe tbody tr th:only-of-type {\n",
       "        vertical-align: middle;\n",
       "    }\n",
       "\n",
       "    .dataframe tbody tr th {\n",
       "        vertical-align: top;\n",
       "    }\n",
       "\n",
       "    .dataframe thead th {\n",
       "        text-align: right;\n",
       "    }\n",
       "</style>\n",
       "<table border=\"1\" class=\"dataframe\">\n",
       "  <thead>\n",
       "    <tr style=\"text-align: right;\">\n",
       "      <th></th>\n",
       "      <th>ln_mileage</th>\n",
       "      <th>price</th>\n",
       "    </tr>\n",
       "  </thead>\n",
       "  <tbody>\n",
       "    <tr>\n",
       "      <th>ln_mileage</th>\n",
       "      <td>1.000000</td>\n",
       "      <td>-0.421716</td>\n",
       "    </tr>\n",
       "    <tr>\n",
       "      <th>price</th>\n",
       "      <td>-0.421716</td>\n",
       "      <td>1.000000</td>\n",
       "    </tr>\n",
       "  </tbody>\n",
       "</table>\n",
       "</div>"
      ],
      "text/plain": [
       "            ln_mileage     price\n",
       "ln_mileage    1.000000 -0.421716\n",
       "price        -0.421716  1.000000"
      ]
     },
     "execution_count": 69,
     "metadata": {},
     "output_type": "execute_result"
    }
   ],
   "source": [
    "# Độ tương quan \n",
    "df[['ln_mileage','price']].corr()"
   ]
  },
  {
   "cell_type": "markdown",
   "metadata": {
    "id": "UZnSp0UnaaCV"
   },
   "source": [
    "\n",
    "\n",
    "> Tương quan nghịch >> Đúng với nhận định ban đấu\n",
    "\n"
   ]
  },
  {
   "cell_type": "code",
   "execution_count": 70,
   "metadata": {
    "colab": {
     "base_uri": "https://localhost:8080/",
     "height": 556
    },
    "id": "9XwYee_-aLR1",
    "outputId": "b4fe175b-5c3a-428f-8167-ba1d538b93cf"
   },
   "outputs": [
    {
     "data": {
      "text/plain": [
       "<matplotlib.collections.PathCollection at 0x7fd10927cca0>"
      ]
     },
     "execution_count": 70,
     "metadata": {},
     "output_type": "execute_result"
    },
    {
     "data": {
      "image/png": "[encoded data removed]",
      "text/plain": [
       "<Figure size 800x550 with 1 Axes>"
      ]
     },
     "metadata": {},
     "output_type": "display_data"
    }
   ],
   "source": [
    "# Xem độ tương quan giữa giá xe và số dặm đi được trên 1 gallon(mpg)\n",
    "\n",
    "plt.style.use('seaborn')\n",
    "\n",
    "plt.scatter(data = df, x='mpg',y='price')"
   ]
  },
  {
   "cell_type": "code",
   "execution_count": 71,
   "metadata": {
    "colab": {
     "base_uri": "https://localhost:8080/",
     "height": 112
    },
    "id": "bBczAr54alrN",
    "outputId": "0fbdfe75-7953-45c3-8a01-772ad8db243c"
   },
   "outputs": [
    {
     "data": {
      "text/html": [
       "<div>\n",
       "<style scoped>\n",
       "    .dataframe tbody tr th:only-of-type {\n",
       "        vertical-align: middle;\n",
       "    }\n",
       "\n",
       "    .dataframe tbody tr th {\n",
       "        vertical-align: top;\n",
       "    }\n",
       "\n",
       "    .dataframe thead th {\n",
       "        text-align: right;\n",
       "    }\n",
       "</style>\n",
       "<table border=\"1\" class=\"dataframe\">\n",
       "  <thead>\n",
       "    <tr style=\"text-align: right;\">\n",
       "      <th></th>\n",
       "      <th>mpg</th>\n",
       "      <th>price</th>\n",
       "    </tr>\n",
       "  </thead>\n",
       "  <tbody>\n",
       "    <tr>\n",
       "      <th>mpg</th>\n",
       "      <td>1.000000</td>\n",
       "      <td>-0.296429</td>\n",
       "    </tr>\n",
       "    <tr>\n",
       "      <th>price</th>\n",
       "      <td>-0.296429</td>\n",
       "      <td>1.000000</td>\n",
       "    </tr>\n",
       "  </tbody>\n",
       "</table>\n",
       "</div>"
      ],
      "text/plain": [
       "            mpg     price\n",
       "mpg    1.000000 -0.296429\n",
       "price -0.296429  1.000000"
      ]
     },
     "execution_count": 71,
     "metadata": {},
     "output_type": "execute_result"
    }
   ],
   "source": [
    "df[['mpg','price']].corr()"
   ]
  },
  {
   "cell_type": "code",
   "execution_count": 72,
   "metadata": {
    "colab": {
     "base_uri": "https://localhost:8080/",
     "height": 501
    },
    "id": "cPnUboILazUe",
    "outputId": "ac408dc9-0c4e-4c61-8346-e1052eb7d508"
   },
   "outputs": [
    {
     "data": {
      "text/plain": [
       "<matplotlib.collections.PathCollection at 0x7fd109291dc0>"
      ]
     },
     "execution_count": 72,
     "metadata": {},
     "output_type": "execute_result"
    },
    {
     "data": {
      "image/png": "[encoded data removed]",
      "text/plain": [
       "<Figure size 800x550 with 1 Axes>"
      ]
     },
     "metadata": {},
     "output_type": "display_data"
    }
   ],
   "source": [
    "df['ln_mpg'] = df['mpg'].apply(lambda x: math.log(x))\n",
    "\n",
    "plt.scatter(data = df, x='ln_mpg',y='price')"
   ]
  },
  {
   "cell_type": "code",
   "execution_count": 73,
   "metadata": {
    "colab": {
     "base_uri": "https://localhost:8080/",
     "height": 112
    },
    "id": "mEOsAmLCbYHw",
    "outputId": "4acdc7ed-14c6-40a8-e945-e9cd368a01ac"
   },
   "outputs": [
    {
     "data": {
      "text/html": [
       "<div>\n",
       "<style scoped>\n",
       "    .dataframe tbody tr th:only-of-type {\n",
       "        vertical-align: middle;\n",
       "    }\n",
       "\n",
       "    .dataframe tbody tr th {\n",
       "        vertical-align: top;\n",
       "    }\n",
       "\n",
       "    .dataframe thead th {\n",
       "        text-align: right;\n",
       "    }\n",
       "</style>\n",
       "<table border=\"1\" class=\"dataframe\">\n",
       "  <thead>\n",
       "    <tr style=\"text-align: right;\">\n",
       "      <th></th>\n",
       "      <th>ln_mpg</th>\n",
       "      <th>price</th>\n",
       "    </tr>\n",
       "  </thead>\n",
       "  <tbody>\n",
       "    <tr>\n",
       "      <th>ln_mpg</th>\n",
       "      <td>1.000000</td>\n",
       "      <td>-0.442113</td>\n",
       "    </tr>\n",
       "    <tr>\n",
       "      <th>price</th>\n",
       "      <td>-0.442113</td>\n",
       "      <td>1.000000</td>\n",
       "    </tr>\n",
       "  </tbody>\n",
       "</table>\n",
       "</div>"
      ],
      "text/plain": [
       "          ln_mpg     price\n",
       "ln_mpg  1.000000 -0.442113\n",
       "price  -0.442113  1.000000"
      ]
     },
     "execution_count": 73,
     "metadata": {},
     "output_type": "execute_result"
    }
   ],
   "source": [
    "df[['ln_mpg','price']].corr()"
   ]
  },
  {
   "cell_type": "markdown",
   "metadata": {
    "id": "dDjHjsozb1Wk"
   },
   "source": [
    "Đối với biến category"
   ]
  },
  {
   "cell_type": "code",
   "execution_count": 74,
   "metadata": {
    "colab": {
     "base_uri": "https://localhost:8080/",
     "height": 175
    },
    "id": "ikTTKRA4cKQj",
    "outputId": "87ed1ab7-df25-4e9e-c43f-8b1f54eafe7c"
   },
   "outputs": [
    {
     "data": {
      "text/html": [
       "<div>\n",
       "<style scoped>\n",
       "    .dataframe tbody tr th:only-of-type {\n",
       "        vertical-align: middle;\n",
       "    }\n",
       "\n",
       "    .dataframe tbody tr th {\n",
       "        vertical-align: top;\n",
       "    }\n",
       "\n",
       "    .dataframe thead th {\n",
       "        text-align: right;\n",
       "    }\n",
       "</style>\n",
       "<table border=\"1\" class=\"dataframe\">\n",
       "  <thead>\n",
       "    <tr style=\"text-align: right;\">\n",
       "      <th></th>\n",
       "      <th>model</th>\n",
       "      <th>transmission</th>\n",
       "      <th>fuelType</th>\n",
       "      <th>automaker</th>\n",
       "    </tr>\n",
       "  </thead>\n",
       "  <tbody>\n",
       "    <tr>\n",
       "      <th>count</th>\n",
       "      <td>104641</td>\n",
       "      <td>104641</td>\n",
       "      <td>104641</td>\n",
       "      <td>104641</td>\n",
       "    </tr>\n",
       "    <tr>\n",
       "      <th>unique</th>\n",
       "      <td>195</td>\n",
       "      <td>4</td>\n",
       "      <td>5</td>\n",
       "      <td>10</td>\n",
       "    </tr>\n",
       "    <tr>\n",
       "      <th>top</th>\n",
       "      <td>Focus</td>\n",
       "      <td>Manual</td>\n",
       "      <td>Petrol</td>\n",
       "      <td>ford</td>\n",
       "    </tr>\n",
       "    <tr>\n",
       "      <th>freq</th>\n",
       "      <td>10042</td>\n",
       "      <td>61109</td>\n",
       "      <td>58473</td>\n",
       "      <td>17965</td>\n",
       "    </tr>\n",
       "  </tbody>\n",
       "</table>\n",
       "</div>"
      ],
      "text/plain": [
       "         model transmission fuelType automaker\n",
       "count   104641       104641   104641    104641\n",
       "unique     195            4        5        10\n",
       "top      Focus       Manual   Petrol      ford\n",
       "freq     10042        61109    58473     17965"
      ]
     },
     "execution_count": 74,
     "metadata": {},
     "output_type": "execute_result"
    }
   ],
   "source": [
    "df.describe(include=['category'])"
   ]
  },
  {
   "cell_type": "markdown",
   "metadata": {
    "id": "oUoHY7GVcURc"
   },
   "source": [
    "\n",
    "\n",
    "> Có quá nhiều Model tronng dữ liệu. Các mẫu xe được lấy theo từng tập dữ liệu của hãng. Ta sẽ xem phân bổ của giá theo hãng xe và sẽ chia nhóm cho từng hãng.\n"
   ]
  },
  {
   "cell_type": "code",
   "execution_count": 75,
   "metadata": {
    "colab": {
     "base_uri": "https://localhost:8080/"
    },
    "id": "bhj6SJD0erG1",
    "outputId": "4e50721d-2fd6-4921-eaa0-79e2158654b9"
   },
   "outputs": [
    {
     "data": {
      "text/plain": [
       "model\n",
       " 1 Series    15821.670391\n",
       " 2 Series    19539.371847\n",
       " 3 Series    19880.857962\n",
       " 4 Series    22498.418090\n",
       " 5 Series    22537.428030\n",
       "                 ...     \n",
       " i8          57012.588235\n",
       "180          10799.000000\n",
       "200          19495.000000\n",
       "220          19995.000000\n",
       "230           4500.000000\n",
       "Name: price, Length: 195, dtype: float64"
      ]
     },
     "execution_count": 75,
     "metadata": {},
     "output_type": "execute_result"
    }
   ],
   "source": [
    "# Giá xe trung bình theo model\n",
    "df.groupby('model')['price'].mean()"
   ]
  },
  {
   "cell_type": "code",
   "execution_count": 76,
   "metadata": {
    "colab": {
     "base_uri": "https://localhost:8080/"
    },
    "id": "2yGSZx22dixT",
    "outputId": "072d45e6-37b6-45c0-8b30-ad4194eb077e"
   },
   "outputs": [
    {
     "data": {
      "text/plain": [
       "count      195.000000\n",
       "mean     20904.649592\n",
       "std      15732.952087\n",
       "min       1295.000000\n",
       "25%      10356.120690\n",
       "50%      17720.226351\n",
       "75%      26826.640391\n",
       "max      98934.200000\n",
       "Name: price, dtype: float64"
      ]
     },
     "execution_count": 76,
     "metadata": {},
     "output_type": "execute_result"
    }
   ],
   "source": [
    "#Xem phân bổ\n",
    "df.groupby('model')['price'].mean().describe()"
   ]
  },
  {
   "cell_type": "markdown",
   "metadata": {
    "id": "gHRVZMP6glKj"
   },
   "source": [
    "\n",
    "\n",
    "> **Biến định tính model sẽ được nhóm cụm trong bước sau**\n",
    "\n"
   ]
  },
  {
   "cell_type": "code",
   "execution_count": 77,
   "metadata": {
    "colab": {
     "base_uri": "https://localhost:8080/",
     "height": 701
    },
    "id": "1h82ahS1gxWe",
    "outputId": "5e069cd8-c439-4a58-8b9a-5c69c73fa7f3"
   },
   "outputs": [
    {
     "data": {
      "image/png": "[encoded data removed]",
      "text/plain": [
       "<Figure size 700x700 with 4 Axes>"
      ]
     },
     "metadata": {},
     "output_type": "display_data"
    }
   ],
   "source": [
    "# Giá xa trung bình theo transmission, fuelType, automaker\n",
    "\n",
    "cols = ['transmission', 'fuelType', 'automaker']\n",
    "# data = df.groupby[cols[i]]\n",
    "n_cols = 2\n",
    "n_rows = 2\n",
    "fix, ax = plt.subplots(n_rows, n_cols, figsize=(n_cols*3.5, n_rows*3.5))\n",
    "sns.set_theme(style=\"whitegrid\")\n",
    "sns.set_color_codes(\"pastel\")\n",
    "for r in range(n_rows):\n",
    "    for c in range(n_cols):\n",
    "        i = r*n_cols + c #Lấy vị trí của cols muốn vẽ\n",
    "        if i < len(cols):\n",
    "            ax_i = ax[r,c] #Lấy axis muốn vẽ\n",
    "            data = df.groupby(cols[i])['price'].mean().sort_values(ascending = False).reset_index()\n",
    "\n",
    "            sns.barplot(data = data ,y=cols[i],x = 'price',ax= ax_i)\n",
    "            ax.flat[-1].set_visible(False) #Xóa axis cuối\n",
    "            plt.tight_layout() #Để các đồ thị không đè lên nhau\n"
   ]
  },
  {
   "cell_type": "markdown",
   "metadata": {
    "id": "2-wIrNxopJJI"
   },
   "source": [
    "\n",
    "\n",
    "> Ta thấy hãy xe nhiều hãng có giá trung bình tương tự nhau. Kết hợp với việc các Model thuộc các hãng riêng biệt nên ta sẽ gom cột Model và cột Automaker thành một cột mới và chia theo \"Hạng xe\"\n",
    "\n"
   ]
  },
  {
   "cell_type": "markdown",
   "metadata": {
    "id": "mfsnIlRUqFdQ"
   },
   "source": [
    "# **Tiền xử lý dữ liệu - Data Preprocessing**"
   ]
  },
  {
   "cell_type": "markdown",
   "metadata": {
    "id": "wLFc42dJqMCY"
   },
   "source": [
    "## **Xử lý dữ liệu thiếu - Missing value**"
   ]
  },
  {
   "cell_type": "code",
   "execution_count": 78,
   "metadata": {
    "colab": {
     "base_uri": "https://localhost:8080/"
    },
    "id": "hrNxW8nGqW6B",
    "outputId": "0ef5fe7f-c80f-4ded-b1fe-37dd78b2398b"
   },
   "outputs": [
    {
     "name": "stdout",
     "output_type": "stream",
     "text": [
      "Column tax contains 5454 missing value\n",
      "take 5.21 %\n",
      "--\n",
      "Column mpg contains 5454 missing value\n",
      "take 5.21 %\n",
      "--\n",
      "Column ln_mpg contains 5454 missing value\n",
      "take 5.21 %\n",
      "--\n"
     ]
    }
   ],
   "source": [
    "columns = df.columns\n",
    "for i,column in enumerate(columns):\n",
    "  missing = df[column].isnull().sum()\n",
    "  percent = missing*100/(df.shape[0])\n",
    "  if missing  > 0:\n",
    "    print('Column', column, 'contains', missing, 'missing value')\n",
    "    print('take', format(percent, \".2f\"), \"%\")\n",
    "    print(\"--\")"
   ]
  },
  {
   "cell_type": "markdown",
   "metadata": {
    "id": "HAJU6RWWyUsz"
   },
   "source": [
    "Thay những giá trị tax và ln_mpg bị null bằng giá trị trung bình của toàn dữ liệu"
   ]
  },
  {
   "cell_type": "code",
   "execution_count": 79,
   "metadata": {
    "id": "kmiWzuIq0ETt"
   },
   "outputs": [
    {
     "data": {
      "text/plain": [
       "0        4.014580\n",
       "1        3.994524\n",
       "2        3.869116\n",
       "3        4.014580\n",
       "4        3.772761\n",
       "           ...   \n",
       "13114    4.014580\n",
       "13115    4.014580\n",
       "13116    3.725693\n",
       "13117    3.819908\n",
       "13118    3.956996\n",
       "Name: ln_mpg, Length: 104641, dtype: float64"
      ]
     },
     "execution_count": 79,
     "metadata": {},
     "output_type": "execute_result"
    }
   ],
   "source": [
    "avg = df[df['ln_mpg'].notnull()]['ln_mpg'].mean()\n",
    "df['ln_mpg'] = df['ln_mpg'].fillna(avg)\n",
    "df['ln_mpg']"
   ]
  },
  {
   "cell_type": "code",
   "execution_count": 80,
   "metadata": {
    "id": "j5RL9WQwEUHs"
   },
   "outputs": [
    {
     "data": {
      "text/plain": [
       "0        145.0\n",
       "1        145.0\n",
       "2        145.0\n",
       "3         30.0\n",
       "4        145.0\n",
       "         ...  \n",
       "13114    145.0\n",
       "13115    145.0\n",
       "13116    145.0\n",
       "13117    145.0\n",
       "13118    145.0\n",
       "Name: tax, Length: 104641, dtype: float64"
      ]
     },
     "execution_count": 80,
     "metadata": {},
     "output_type": "execute_result"
    }
   ],
   "source": [
    "\n",
    "df['tax'] = df['tax'].fillna(df[df['tax'].notnull()]['tax'].mean())\n",
    "df['tax']"
   ]
  },
  {
   "cell_type": "markdown",
   "metadata": {
    "id": "xwCmI_Mb39L7"
   },
   "source": [
    "## **Data Transformation**"
   ]
  },
  {
   "cell_type": "markdown",
   "metadata": {
    "id": "ktB9-0Te4H7y"
   },
   "source": [
    "** Data Wrangging **"
   ]
  },
  {
   "cell_type": "code",
   "execution_count": 81,
   "metadata": {
    "colab": {
     "base_uri": "https://localhost:8080/",
     "height": 206
    },
    "id": "CYVrsR1X4sJH",
    "outputId": "77f41703-fb3c-411d-9853-d93d25e937c6"
   },
   "outputs": [
    {
     "data": {
      "text/html": [
       "<div>\n",
       "<style scoped>\n",
       "    .dataframe tbody tr th:only-of-type {\n",
       "        vertical-align: middle;\n",
       "    }\n",
       "\n",
       "    .dataframe tbody tr th {\n",
       "        vertical-align: top;\n",
       "    }\n",
       "\n",
       "    .dataframe thead th {\n",
       "        text-align: right;\n",
       "    }\n",
       "</style>\n",
       "<table border=\"1\" class=\"dataframe\">\n",
       "  <thead>\n",
       "    <tr style=\"text-align: right;\">\n",
       "      <th></th>\n",
       "      <th>model</th>\n",
       "      <th>year</th>\n",
       "      <th>price</th>\n",
       "      <th>transmission</th>\n",
       "      <th>mileage</th>\n",
       "      <th>fuelType</th>\n",
       "      <th>tax</th>\n",
       "      <th>mpg</th>\n",
       "      <th>engineSize</th>\n",
       "      <th>automaker</th>\n",
       "      <th>ln_mileage</th>\n",
       "      <th>ln_mpg</th>\n",
       "    </tr>\n",
       "  </thead>\n",
       "  <tbody>\n",
       "    <tr>\n",
       "      <th>0</th>\n",
       "      <td>Corsa</td>\n",
       "      <td>2018</td>\n",
       "      <td>7885</td>\n",
       "      <td>Manual</td>\n",
       "      <td>9876</td>\n",
       "      <td>Petrol</td>\n",
       "      <td>145.0</td>\n",
       "      <td>55.4</td>\n",
       "      <td>1.4</td>\n",
       "      <td>vauxhall</td>\n",
       "      <td>9.197863</td>\n",
       "      <td>4.014580</td>\n",
       "    </tr>\n",
       "    <tr>\n",
       "      <th>1</th>\n",
       "      <td>Corsa</td>\n",
       "      <td>2019</td>\n",
       "      <td>11995</td>\n",
       "      <td>Manual</td>\n",
       "      <td>2500</td>\n",
       "      <td>Petrol</td>\n",
       "      <td>145.0</td>\n",
       "      <td>54.3</td>\n",
       "      <td>1.4</td>\n",
       "      <td>vauxhall</td>\n",
       "      <td>7.824046</td>\n",
       "      <td>3.994524</td>\n",
       "    </tr>\n",
       "    <tr>\n",
       "      <th>2</th>\n",
       "      <td>Corsa</td>\n",
       "      <td>2017</td>\n",
       "      <td>9777</td>\n",
       "      <td>Automatic</td>\n",
       "      <td>9625</td>\n",
       "      <td>Petrol</td>\n",
       "      <td>145.0</td>\n",
       "      <td>47.9</td>\n",
       "      <td>1.4</td>\n",
       "      <td>vauxhall</td>\n",
       "      <td>9.172119</td>\n",
       "      <td>3.869116</td>\n",
       "    </tr>\n",
       "    <tr>\n",
       "      <th>3</th>\n",
       "      <td>Corsa</td>\n",
       "      <td>2016</td>\n",
       "      <td>8500</td>\n",
       "      <td>Manual</td>\n",
       "      <td>25796</td>\n",
       "      <td>Petrol</td>\n",
       "      <td>30.0</td>\n",
       "      <td>55.4</td>\n",
       "      <td>1.4</td>\n",
       "      <td>vauxhall</td>\n",
       "      <td>10.157975</td>\n",
       "      <td>4.014580</td>\n",
       "    </tr>\n",
       "    <tr>\n",
       "      <th>4</th>\n",
       "      <td>Corsa</td>\n",
       "      <td>2019</td>\n",
       "      <td>10000</td>\n",
       "      <td>Manual</td>\n",
       "      <td>3887</td>\n",
       "      <td>Petrol</td>\n",
       "      <td>145.0</td>\n",
       "      <td>43.5</td>\n",
       "      <td>1.4</td>\n",
       "      <td>vauxhall</td>\n",
       "      <td>8.265393</td>\n",
       "      <td>3.772761</td>\n",
       "    </tr>\n",
       "  </tbody>\n",
       "</table>\n",
       "</div>"
      ],
      "text/plain": [
       "    model  year  price transmission  mileage fuelType    tax   mpg  \\\n",
       "0   Corsa  2018   7885       Manual     9876   Petrol  145.0  55.4   \n",
       "1   Corsa  2019  11995       Manual     2500   Petrol  145.0  54.3   \n",
       "2   Corsa  2017   9777    Automatic     9625   Petrol  145.0  47.9   \n",
       "3   Corsa  2016   8500       Manual    25796   Petrol   30.0  55.4   \n",
       "4   Corsa  2019  10000       Manual     3887   Petrol  145.0  43.5   \n",
       "\n",
       "   engineSize automaker  ln_mileage    ln_mpg  \n",
       "0         1.4  vauxhall    9.197863  4.014580  \n",
       "1         1.4  vauxhall    7.824046  3.994524  \n",
       "2         1.4  vauxhall    9.172119  3.869116  \n",
       "3         1.4  vauxhall   10.157975  4.014580  \n",
       "4         1.4  vauxhall    8.265393  3.772761  "
      ]
     },
     "execution_count": 81,
     "metadata": {},
     "output_type": "execute_result"
    }
   ],
   "source": [
    "df.head()"
   ]
  },
  {
   "cell_type": "code",
   "execution_count": 82,
   "metadata": {
    "id": "OM8-qWS66A-A"
   },
   "outputs": [
    {
     "data": {
      "text/plain": [
       "Affordable    43195\n",
       "Luxury        34568\n",
       "Mid-range     26878\n",
       "Name: Class, dtype: int64"
      ]
     },
     "execution_count": 82,
     "metadata": {},
     "output_type": "execute_result"
    }
   ],
   "source": [
    "def fill_class(x):\n",
    "  if x in ('merc','audi','bmw'):\n",
    "    return \"Luxury\"\n",
    "  if x in ('vw','skoda','focus'):\n",
    "    return \"Mid-range\"\n",
    "  else:\n",
    "    return \"Affordable\"\n",
    "\n",
    "df['Class'] = df['automaker'].apply(lambda x: fill_class(x))\n",
    "df['Class'].value_counts()"
   ]
  },
  {
   "cell_type": "code",
   "execution_count": 83,
   "metadata": {
    "colab": {
     "base_uri": "https://localhost:8080/"
    },
    "id": "qe41O9x28YYC",
    "outputId": "fdb31b1d-7317-469d-ff49-37f511896317"
   },
   "outputs": [
    {
     "data": {
      "text/plain": [
       "count    104641.000000\n",
       "mean       2017.089066\n",
       "std           2.126373\n",
       "min        1970.000000\n",
       "25%        2016.000000\n",
       "50%        2017.000000\n",
       "75%        2019.000000\n",
       "max        2060.000000\n",
       "Name: year, dtype: float64"
      ]
     },
     "execution_count": 83,
     "metadata": {},
     "output_type": "execute_result"
    }
   ],
   "source": [
    "df['year'].describe()"
   ]
  },
  {
   "cell_type": "code",
   "execution_count": 84,
   "metadata": {
    "id": "br1dvxXC90Pt"
   },
   "outputs": [
    {
     "data": {
      "text/plain": [
       "2-4 năm       37751\n",
       "dưới 2 năm    32897\n",
       "hơn 5 năm     17590\n",
       "4-5 năm       16403\n",
       "Name: year, dtype: int64"
      ]
     },
     "execution_count": 84,
     "metadata": {},
     "output_type": "execute_result"
    }
   ],
   "source": [
    "\n",
    "df['year'] = pd.cut(df['year'],\n",
    "                    bins = [0, 2015.9, 2016.9, 2018.9, 2061],\n",
    "                    labels =['hơn 5 năm','4-5 năm','2-4 năm','dưới 2 năm'])\n",
    "df['year'].value_counts()"
   ]
  },
  {
   "cell_type": "code",
   "execution_count": 85,
   "metadata": {
    "colab": {
     "base_uri": "https://localhost:8080/"
    },
    "id": "wbZEaIyxCpUg",
    "outputId": "74c7c51f-655e-46be-c58e-517f31fdde59"
   },
   "outputs": [
    {
     "data": {
      "text/plain": [
       "count    104641.000000\n",
       "mean          1.647643\n",
       "std           0.554577\n",
       "min           0.000000\n",
       "25%           1.200000\n",
       "50%           1.500000\n",
       "75%           2.000000\n",
       "max           6.600000\n",
       "Name: engineSize, dtype: float64"
      ]
     },
     "execution_count": 85,
     "metadata": {},
     "output_type": "execute_result"
    }
   ],
   "source": [
    "df['engineSize'].describe()"
   ]
  },
  {
   "cell_type": "code",
   "execution_count": 86,
   "metadata": {
    "id": "JEc5esppFAdO"
   },
   "outputs": [],
   "source": [
    "df['engineSize'] = pd.cut(df['engineSize'],\n",
    "                    bins = [-1, df['engineSize'].quantile(0.25)-0.01, df['engineSize'].quantile(0.5)-0.01, df['engineSize'].quantile(0.75)-0.01, df['engineSize'].max()+0.01],\n",
    "                    labels =['Small','Medium','Large','Very Large'])"
   ]
  },
  {
   "cell_type": "code",
   "execution_count": 87,
   "metadata": {},
   "outputs": [
    {
     "data": {
      "text/plain": [
       "Very Large    39742\n",
       "Large         24753\n",
       "Small         20783\n",
       "Medium        19363\n",
       "Name: engineSize, dtype: int64"
      ]
     },
     "execution_count": 87,
     "metadata": {},
     "output_type": "execute_result"
    }
   ],
   "source": [
    "df['engineSize'].value_counts()"
   ]
  },
  {
   "cell_type": "code",
   "execution_count": 88,
   "metadata": {},
   "outputs": [
    {
     "data": {
      "text/html": [
       "<div>\n",
       "<style scoped>\n",
       "    .dataframe tbody tr th:only-of-type {\n",
       "        vertical-align: middle;\n",
       "    }\n",
       "\n",
       "    .dataframe tbody tr th {\n",
       "        vertical-align: top;\n",
       "    }\n",
       "\n",
       "    .dataframe thead th {\n",
       "        text-align: right;\n",
       "    }\n",
       "</style>\n",
       "<table border=\"1\" class=\"dataframe\">\n",
       "  <thead>\n",
       "    <tr style=\"text-align: right;\">\n",
       "      <th></th>\n",
       "      <th>model</th>\n",
       "      <th>year</th>\n",
       "      <th>price</th>\n",
       "      <th>transmission</th>\n",
       "      <th>mileage</th>\n",
       "      <th>fuelType</th>\n",
       "      <th>tax</th>\n",
       "      <th>mpg</th>\n",
       "      <th>engineSize</th>\n",
       "      <th>automaker</th>\n",
       "      <th>ln_mileage</th>\n",
       "      <th>ln_mpg</th>\n",
       "      <th>Class</th>\n",
       "    </tr>\n",
       "  </thead>\n",
       "  <tbody>\n",
       "    <tr>\n",
       "      <th>0</th>\n",
       "      <td>Corsa</td>\n",
       "      <td>2-4 năm</td>\n",
       "      <td>7885.0</td>\n",
       "      <td>Manual</td>\n",
       "      <td>9876</td>\n",
       "      <td>Petrol</td>\n",
       "      <td>145.000000</td>\n",
       "      <td>55.4</td>\n",
       "      <td>Medium</td>\n",
       "      <td>vauxhall</td>\n",
       "      <td>9.197863</td>\n",
       "      <td>4.014580</td>\n",
       "      <td>Affordable</td>\n",
       "    </tr>\n",
       "    <tr>\n",
       "      <th>1</th>\n",
       "      <td>Corsa</td>\n",
       "      <td>dưới 2 năm</td>\n",
       "      <td>11995.0</td>\n",
       "      <td>Manual</td>\n",
       "      <td>2500</td>\n",
       "      <td>Petrol</td>\n",
       "      <td>145.000000</td>\n",
       "      <td>54.3</td>\n",
       "      <td>Medium</td>\n",
       "      <td>vauxhall</td>\n",
       "      <td>7.824046</td>\n",
       "      <td>3.994524</td>\n",
       "      <td>Affordable</td>\n",
       "    </tr>\n",
       "    <tr>\n",
       "      <th>2</th>\n",
       "      <td>Corsa</td>\n",
       "      <td>2-4 năm</td>\n",
       "      <td>9777.0</td>\n",
       "      <td>Automatic</td>\n",
       "      <td>9625</td>\n",
       "      <td>Petrol</td>\n",
       "      <td>145.000000</td>\n",
       "      <td>47.9</td>\n",
       "      <td>Medium</td>\n",
       "      <td>vauxhall</td>\n",
       "      <td>9.172119</td>\n",
       "      <td>3.869116</td>\n",
       "      <td>Affordable</td>\n",
       "    </tr>\n",
       "    <tr>\n",
       "      <th>3</th>\n",
       "      <td>Corsa</td>\n",
       "      <td>4-5 năm</td>\n",
       "      <td>8500.0</td>\n",
       "      <td>Manual</td>\n",
       "      <td>25796</td>\n",
       "      <td>Petrol</td>\n",
       "      <td>83.249594</td>\n",
       "      <td>55.4</td>\n",
       "      <td>Medium</td>\n",
       "      <td>vauxhall</td>\n",
       "      <td>10.157975</td>\n",
       "      <td>4.014580</td>\n",
       "      <td>Affordable</td>\n",
       "    </tr>\n",
       "    <tr>\n",
       "      <th>4</th>\n",
       "      <td>Corsa</td>\n",
       "      <td>dưới 2 năm</td>\n",
       "      <td>10000.0</td>\n",
       "      <td>Manual</td>\n",
       "      <td>3887</td>\n",
       "      <td>Petrol</td>\n",
       "      <td>145.000000</td>\n",
       "      <td>43.5</td>\n",
       "      <td>Medium</td>\n",
       "      <td>vauxhall</td>\n",
       "      <td>8.265393</td>\n",
       "      <td>3.772761</td>\n",
       "      <td>Affordable</td>\n",
       "    </tr>\n",
       "  </tbody>\n",
       "</table>\n",
       "</div>"
      ],
      "text/plain": [
       "    model        year    price transmission  mileage fuelType         tax  \\\n",
       "0   Corsa     2-4 năm   7885.0       Manual     9876   Petrol  145.000000   \n",
       "1   Corsa  dưới 2 năm  11995.0       Manual     2500   Petrol  145.000000   \n",
       "2   Corsa     2-4 năm   9777.0    Automatic     9625   Petrol  145.000000   \n",
       "3   Corsa     4-5 năm   8500.0       Manual    25796   Petrol   83.249594   \n",
       "4   Corsa  dưới 2 năm  10000.0       Manual     3887   Petrol  145.000000   \n",
       "\n",
       "    mpg engineSize automaker  ln_mileage    ln_mpg       Class  \n",
       "0  55.4     Medium  vauxhall    9.197863  4.014580  Affordable  \n",
       "1  54.3     Medium  vauxhall    7.824046  3.994524  Affordable  \n",
       "2  47.9     Medium  vauxhall    9.172119  3.869116  Affordable  \n",
       "3  55.4     Medium  vauxhall   10.157975  4.014580  Affordable  \n",
       "4  43.5     Medium  vauxhall    8.265393  3.772761  Affordable  "
      ]
     },
     "execution_count": 88,
     "metadata": {},
     "output_type": "execute_result"
    }
   ],
   "source": [
    "# xỬ LÝ Outlier\n",
    "cols = ['ln_mileage','tax','ln_mpg','price']\n",
    "for col in cols:\n",
    "    # Tính IQR của biến\n",
    "    Q1 = df[col].quantile(0.25)\n",
    "    Q3 = df[col].quantile(0.75)\n",
    "    IQR = Q3 - Q1\n",
    "\n",
    "    # Xác định ngưỡng trên và ngưỡng dưới\n",
    "    upper_threshold = Q3 + (1.5 * IQR)\n",
    "    lower_threshold = Q1 - (1.5 * IQR)\n",
    "\n",
    "    # Thay thế các giá trị outlier\n",
    "    df[col] = df[col].apply(lambda x: upper_threshold if x >= upper_threshold else (lower_threshold if x <= lower_threshold else x))\n",
    "df.head()"
   ]
  },
  {
   "cell_type": "markdown",
   "metadata": {
    "id": "0lOI8zNYGnIL"
   },
   "source": [
    "** Chia tập dữ liệu X,y**"
   ]
  },
  {
   "cell_type": "code",
   "execution_count": 89,
   "metadata": {
    "id": "pBF2NQQxFjUm"
   },
   "outputs": [
    {
     "data": {
      "text/html": [
       "<div>\n",
       "<style scoped>\n",
       "    .dataframe tbody tr th:only-of-type {\n",
       "        vertical-align: middle;\n",
       "    }\n",
       "\n",
       "    .dataframe tbody tr th {\n",
       "        vertical-align: top;\n",
       "    }\n",
       "\n",
       "    .dataframe thead th {\n",
       "        text-align: right;\n",
       "    }\n",
       "</style>\n",
       "<table border=\"1\" class=\"dataframe\">\n",
       "  <thead>\n",
       "    <tr style=\"text-align: right;\">\n",
       "      <th></th>\n",
       "      <th>year</th>\n",
       "      <th>transmission</th>\n",
       "      <th>fuelType</th>\n",
       "      <th>engineSize</th>\n",
       "      <th>Class</th>\n",
       "      <th>ln_mileage</th>\n",
       "      <th>tax</th>\n",
       "      <th>ln_mpg</th>\n",
       "    </tr>\n",
       "  </thead>\n",
       "  <tbody>\n",
       "    <tr>\n",
       "      <th>0</th>\n",
       "      <td>2-4 năm</td>\n",
       "      <td>Manual</td>\n",
       "      <td>Petrol</td>\n",
       "      <td>Medium</td>\n",
       "      <td>Affordable</td>\n",
       "      <td>9.197863</td>\n",
       "      <td>145.000000</td>\n",
       "      <td>4.014580</td>\n",
       "    </tr>\n",
       "    <tr>\n",
       "      <th>1</th>\n",
       "      <td>dưới 2 năm</td>\n",
       "      <td>Manual</td>\n",
       "      <td>Petrol</td>\n",
       "      <td>Medium</td>\n",
       "      <td>Affordable</td>\n",
       "      <td>7.824046</td>\n",
       "      <td>145.000000</td>\n",
       "      <td>3.994524</td>\n",
       "    </tr>\n",
       "    <tr>\n",
       "      <th>2</th>\n",
       "      <td>2-4 năm</td>\n",
       "      <td>Automatic</td>\n",
       "      <td>Petrol</td>\n",
       "      <td>Medium</td>\n",
       "      <td>Affordable</td>\n",
       "      <td>9.172119</td>\n",
       "      <td>145.000000</td>\n",
       "      <td>3.869116</td>\n",
       "    </tr>\n",
       "    <tr>\n",
       "      <th>3</th>\n",
       "      <td>4-5 năm</td>\n",
       "      <td>Manual</td>\n",
       "      <td>Petrol</td>\n",
       "      <td>Medium</td>\n",
       "      <td>Affordable</td>\n",
       "      <td>10.157975</td>\n",
       "      <td>83.249594</td>\n",
       "      <td>4.014580</td>\n",
       "    </tr>\n",
       "    <tr>\n",
       "      <th>4</th>\n",
       "      <td>dưới 2 năm</td>\n",
       "      <td>Manual</td>\n",
       "      <td>Petrol</td>\n",
       "      <td>Medium</td>\n",
       "      <td>Affordable</td>\n",
       "      <td>8.265393</td>\n",
       "      <td>145.000000</td>\n",
       "      <td>3.772761</td>\n",
       "    </tr>\n",
       "    <tr>\n",
       "      <th>...</th>\n",
       "      <td>...</td>\n",
       "      <td>...</td>\n",
       "      <td>...</td>\n",
       "      <td>...</td>\n",
       "      <td>...</td>\n",
       "      <td>...</td>\n",
       "      <td>...</td>\n",
       "      <td>...</td>\n",
       "    </tr>\n",
       "    <tr>\n",
       "      <th>104636</th>\n",
       "      <td>dưới 2 năm</td>\n",
       "      <td>Automatic</td>\n",
       "      <td>Diesel</td>\n",
       "      <td>Very Large</td>\n",
       "      <td>Luxury</td>\n",
       "      <td>6.745460</td>\n",
       "      <td>145.000000</td>\n",
       "      <td>4.014580</td>\n",
       "    </tr>\n",
       "    <tr>\n",
       "      <th>104637</th>\n",
       "      <td>dưới 2 năm</td>\n",
       "      <td>Automatic</td>\n",
       "      <td>Diesel</td>\n",
       "      <td>Very Large</td>\n",
       "      <td>Luxury</td>\n",
       "      <td>7.824046</td>\n",
       "      <td>145.000000</td>\n",
       "      <td>4.014580</td>\n",
       "    </tr>\n",
       "    <tr>\n",
       "      <th>104638</th>\n",
       "      <td>dưới 2 năm</td>\n",
       "      <td>Automatic</td>\n",
       "      <td>Diesel</td>\n",
       "      <td>Very Large</td>\n",
       "      <td>Luxury</td>\n",
       "      <td>9.359794</td>\n",
       "      <td>145.000000</td>\n",
       "      <td>3.725693</td>\n",
       "    </tr>\n",
       "    <tr>\n",
       "      <th>104639</th>\n",
       "      <td>dưới 2 năm</td>\n",
       "      <td>Automatic</td>\n",
       "      <td>Diesel</td>\n",
       "      <td>Very Large</td>\n",
       "      <td>Luxury</td>\n",
       "      <td>7.793999</td>\n",
       "      <td>145.000000</td>\n",
       "      <td>3.819908</td>\n",
       "    </tr>\n",
       "    <tr>\n",
       "      <th>104640</th>\n",
       "      <td>dưới 2 năm</td>\n",
       "      <td>Automatic</td>\n",
       "      <td>Diesel</td>\n",
       "      <td>Very Large</td>\n",
       "      <td>Luxury</td>\n",
       "      <td>7.637716</td>\n",
       "      <td>145.000000</td>\n",
       "      <td>3.956996</td>\n",
       "    </tr>\n",
       "  </tbody>\n",
       "</table>\n",
       "<p>104641 rows × 8 columns</p>\n",
       "</div>"
      ],
      "text/plain": [
       "              year transmission fuelType  engineSize       Class  ln_mileage  \\\n",
       "0          2-4 năm       Manual   Petrol      Medium  Affordable    9.197863   \n",
       "1       dưới 2 năm       Manual   Petrol      Medium  Affordable    7.824046   \n",
       "2          2-4 năm    Automatic   Petrol      Medium  Affordable    9.172119   \n",
       "3          4-5 năm       Manual   Petrol      Medium  Affordable   10.157975   \n",
       "4       dưới 2 năm       Manual   Petrol      Medium  Affordable    8.265393   \n",
       "...            ...          ...      ...         ...         ...         ...   \n",
       "104636  dưới 2 năm    Automatic   Diesel  Very Large      Luxury    6.745460   \n",
       "104637  dưới 2 năm    Automatic   Diesel  Very Large      Luxury    7.824046   \n",
       "104638  dưới 2 năm    Automatic   Diesel  Very Large      Luxury    9.359794   \n",
       "104639  dưới 2 năm    Automatic   Diesel  Very Large      Luxury    7.793999   \n",
       "104640  dưới 2 năm    Automatic   Diesel  Very Large      Luxury    7.637716   \n",
       "\n",
       "               tax    ln_mpg  \n",
       "0       145.000000  4.014580  \n",
       "1       145.000000  3.994524  \n",
       "2       145.000000  3.869116  \n",
       "3        83.249594  4.014580  \n",
       "4       145.000000  3.772761  \n",
       "...            ...       ...  \n",
       "104636  145.000000  4.014580  \n",
       "104637  145.000000  4.014580  \n",
       "104638  145.000000  3.725693  \n",
       "104639  145.000000  3.819908  \n",
       "104640  145.000000  3.956996  \n",
       "\n",
       "[104641 rows x 8 columns]"
      ]
     },
     "execution_count": 89,
     "metadata": {},
     "output_type": "execute_result"
    }
   ],
   "source": [
    "cat_features = ['year','transmission','fuelType','engineSize','Class']\n",
    "num_features = ['ln_mileage','tax','ln_mpg']\n",
    "features = cat_features + num_features\n",
    "\n",
    "X = df[features].reset_index(drop=True)\n",
    "y = df['price'].reset_index(drop=True)\n",
    "X"
   ]
  },
  {
   "cell_type": "code",
   "execution_count": 90,
   "metadata": {},
   "outputs": [],
   "source": [
    "X.to_csv('X.csv', index=False)"
   ]
  },
  {
   "cell_type": "markdown",
   "metadata": {
    "id": "sx2a99hB10Hq"
   },
   "source": [
    "** Chuẩn hóa và xử lý dữ liệu**"
   ]
  },
  {
   "cell_type": "code",
   "execution_count": 91,
   "metadata": {
    "colab": {
     "base_uri": "https://localhost:8080/",
     "height": 345
    },
    "id": "k6zg-rMS0U4N",
    "outputId": "c21ba108-169f-4cee-c36d-3c4a29382020"
   },
   "outputs": [
    {
     "name": "stdout",
     "output_type": "stream",
     "text": [
      "ColumnTransformer(transformers=[('num',\n",
      "                                 Pipeline(steps=[('scaler', StandardScaler())]),\n",
      "                                 ['ln_mileage', 'tax', 'ln_mpg']),\n",
      "                                ('cat',\n",
      "                                 Pipeline(steps=[('encoder', OneHotEncoder())]),\n",
      "                                 ['year', 'transmission', 'fuelType',\n",
      "                                  'engineSize', 'Class'])])\n"
     ]
    },
    {
     "data": {
      "text/plain": [
       "array([[-0.31234352,  0.47163318,  0.16638162, ...,  1.        ,\n",
       "         0.        ,  0.        ],\n",
       "       [-1.51484036,  0.47163318,  0.07118125, ...,  1.        ,\n",
       "         0.        ,  0.        ],\n",
       "       [-0.33487688,  0.47163318, -0.5241186 , ...,  1.        ,\n",
       "         0.        ,  0.        ],\n",
       "       ...,\n",
       "       [-0.1706055 ,  0.47163318, -1.20492563, ...,  0.        ,\n",
       "         1.        ,  0.        ],\n",
       "       [-1.54114032,  0.47163318, -0.75770194, ...,  0.        ,\n",
       "         1.        ,  0.        ],\n",
       "       [-1.67793396,  0.47163318, -0.10695889, ...,  0.        ,\n",
       "         1.        ,  0.        ]])"
      ]
     },
     "execution_count": 91,
     "metadata": {},
     "output_type": "execute_result"
    }
   ],
   "source": [
    "from sklearn.compose import ColumnTransformer\n",
    "from sklearn.pipeline import Pipeline\n",
    "from sklearn.preprocessing import OneHotEncoder, StandardScaler\n",
    "\n",
    "#Đường ống \n",
    "num_transformer = Pipeline(steps = [\n",
    "    ('scaler', StandardScaler())\n",
    "])\n",
    "\n",
    "cat_transformer = Pipeline([\n",
    "    ('encoder',OneHotEncoder())\n",
    "])\n",
    "\n",
    "#Khai báo quá trình xử lý\n",
    "preprocessor = ColumnTransformer([\n",
    "    ('num',num_transformer,num_features),\n",
    "    ('cat',cat_transformer,cat_features),\n",
    "])\n",
    "print(preprocessor)\n",
    "#Fit và transform vào bộ dữ liệu\n",
    "X_transformed = preprocessor.fit_transform(X)\n",
    "X_transformed"
   ]
  },
  {
   "cell_type": "markdown",
   "metadata": {
    "id": "r9Sdil8I4REo"
   },
   "source": [
    "**Chia tranning set và test set**"
   ]
  },
  {
   "cell_type": "code",
   "execution_count": 92,
   "metadata": {
    "id": "nCjJweEE4T9e"
   },
   "outputs": [
    {
     "data": {
      "text/plain": [
       "(83712, 20929)"
      ]
     },
     "execution_count": 92,
     "metadata": {},
     "output_type": "execute_result"
    }
   ],
   "source": [
    "#Chia bộ dữ liệu\n",
    "from sklearn.model_selection import train_test_split\n",
    "X_train, X_test, y_train, y_test = train_test_split(X_transformed,y, train_size = 0.8)\n",
    "len(X_train), len(X_test)"
   ]
  },
  {
   "cell_type": "code",
   "execution_count": 93,
   "metadata": {},
   "outputs": [
    {
     "data": {
      "text/html": [
       "<div>\n",
       "<style scoped>\n",
       "    .dataframe tbody tr th:only-of-type {\n",
       "        vertical-align: middle;\n",
       "    }\n",
       "\n",
       "    .dataframe tbody tr th {\n",
       "        vertical-align: top;\n",
       "    }\n",
       "\n",
       "    .dataframe thead th {\n",
       "        text-align: right;\n",
       "    }\n",
       "</style>\n",
       "<table border=\"1\" class=\"dataframe\">\n",
       "  <thead>\n",
       "    <tr style=\"text-align: right;\">\n",
       "      <th></th>\n",
       "      <th>0</th>\n",
       "      <th>1</th>\n",
       "      <th>2</th>\n",
       "      <th>3</th>\n",
       "      <th>4</th>\n",
       "      <th>5</th>\n",
       "      <th>6</th>\n",
       "      <th>7</th>\n",
       "      <th>8</th>\n",
       "      <th>9</th>\n",
       "      <th>...</th>\n",
       "      <th>13</th>\n",
       "      <th>14</th>\n",
       "      <th>15</th>\n",
       "      <th>16</th>\n",
       "      <th>17</th>\n",
       "      <th>18</th>\n",
       "      <th>19</th>\n",
       "      <th>20</th>\n",
       "      <th>21</th>\n",
       "      <th>22</th>\n",
       "    </tr>\n",
       "  </thead>\n",
       "  <tbody>\n",
       "    <tr>\n",
       "      <th>0</th>\n",
       "      <td>-0.031124</td>\n",
       "      <td>-1.702681</td>\n",
       "      <td>0.552921</td>\n",
       "      <td>0.0</td>\n",
       "      <td>1.0</td>\n",
       "      <td>0.0</td>\n",
       "      <td>0.0</td>\n",
       "      <td>0.0</td>\n",
       "      <td>1.0</td>\n",
       "      <td>0.0</td>\n",
       "      <td>...</td>\n",
       "      <td>0.0</td>\n",
       "      <td>0.0</td>\n",
       "      <td>1.0</td>\n",
       "      <td>0.0</td>\n",
       "      <td>1.0</td>\n",
       "      <td>0.0</td>\n",
       "      <td>0.0</td>\n",
       "      <td>0.0</td>\n",
       "      <td>0.0</td>\n",
       "      <td>1.0</td>\n",
       "    </tr>\n",
       "    <tr>\n",
       "      <th>1</th>\n",
       "      <td>1.505477</td>\n",
       "      <td>1.776221</td>\n",
       "      <td>-0.524119</td>\n",
       "      <td>0.0</td>\n",
       "      <td>0.0</td>\n",
       "      <td>0.0</td>\n",
       "      <td>1.0</td>\n",
       "      <td>0.0</td>\n",
       "      <td>1.0</td>\n",
       "      <td>0.0</td>\n",
       "      <td>...</td>\n",
       "      <td>0.0</td>\n",
       "      <td>0.0</td>\n",
       "      <td>0.0</td>\n",
       "      <td>0.0</td>\n",
       "      <td>0.0</td>\n",
       "      <td>0.0</td>\n",
       "      <td>1.0</td>\n",
       "      <td>1.0</td>\n",
       "      <td>0.0</td>\n",
       "      <td>0.0</td>\n",
       "    </tr>\n",
       "    <tr>\n",
       "      <th>2</th>\n",
       "      <td>0.427620</td>\n",
       "      <td>0.647690</td>\n",
       "      <td>-0.524119</td>\n",
       "      <td>0.0</td>\n",
       "      <td>0.0</td>\n",
       "      <td>1.0</td>\n",
       "      <td>0.0</td>\n",
       "      <td>0.0</td>\n",
       "      <td>0.0</td>\n",
       "      <td>0.0</td>\n",
       "      <td>...</td>\n",
       "      <td>0.0</td>\n",
       "      <td>0.0</td>\n",
       "      <td>1.0</td>\n",
       "      <td>0.0</td>\n",
       "      <td>0.0</td>\n",
       "      <td>0.0</td>\n",
       "      <td>1.0</td>\n",
       "      <td>0.0</td>\n",
       "      <td>1.0</td>\n",
       "      <td>0.0</td>\n",
       "    </tr>\n",
       "    <tr>\n",
       "      <th>3</th>\n",
       "      <td>0.917385</td>\n",
       "      <td>-1.702681</td>\n",
       "      <td>-0.017053</td>\n",
       "      <td>0.0</td>\n",
       "      <td>1.0</td>\n",
       "      <td>0.0</td>\n",
       "      <td>0.0</td>\n",
       "      <td>0.0</td>\n",
       "      <td>1.0</td>\n",
       "      <td>0.0</td>\n",
       "      <td>...</td>\n",
       "      <td>0.0</td>\n",
       "      <td>0.0</td>\n",
       "      <td>1.0</td>\n",
       "      <td>0.0</td>\n",
       "      <td>1.0</td>\n",
       "      <td>0.0</td>\n",
       "      <td>0.0</td>\n",
       "      <td>0.0</td>\n",
       "      <td>0.0</td>\n",
       "      <td>1.0</td>\n",
       "    </tr>\n",
       "    <tr>\n",
       "      <th>4</th>\n",
       "      <td>0.649150</td>\n",
       "      <td>-0.398092</td>\n",
       "      <td>0.004191</td>\n",
       "      <td>0.0</td>\n",
       "      <td>0.0</td>\n",
       "      <td>0.0</td>\n",
       "      <td>1.0</td>\n",
       "      <td>0.0</td>\n",
       "      <td>1.0</td>\n",
       "      <td>0.0</td>\n",
       "      <td>...</td>\n",
       "      <td>0.0</td>\n",
       "      <td>0.0</td>\n",
       "      <td>0.0</td>\n",
       "      <td>1.0</td>\n",
       "      <td>0.0</td>\n",
       "      <td>0.0</td>\n",
       "      <td>0.0</td>\n",
       "      <td>0.0</td>\n",
       "      <td>0.0</td>\n",
       "      <td>1.0</td>\n",
       "    </tr>\n",
       "    <tr>\n",
       "      <th>...</th>\n",
       "      <td>...</td>\n",
       "      <td>...</td>\n",
       "      <td>...</td>\n",
       "      <td>...</td>\n",
       "      <td>...</td>\n",
       "      <td>...</td>\n",
       "      <td>...</td>\n",
       "      <td>...</td>\n",
       "      <td>...</td>\n",
       "      <td>...</td>\n",
       "      <td>...</td>\n",
       "      <td>...</td>\n",
       "      <td>...</td>\n",
       "      <td>...</td>\n",
       "      <td>...</td>\n",
       "      <td>...</td>\n",
       "      <td>...</td>\n",
       "      <td>...</td>\n",
       "      <td>...</td>\n",
       "      <td>...</td>\n",
       "      <td>...</td>\n",
       "    </tr>\n",
       "    <tr>\n",
       "      <th>83707</th>\n",
       "      <td>0.595067</td>\n",
       "      <td>0.647690</td>\n",
       "      <td>0.975816</td>\n",
       "      <td>1.0</td>\n",
       "      <td>0.0</td>\n",
       "      <td>0.0</td>\n",
       "      <td>0.0</td>\n",
       "      <td>0.0</td>\n",
       "      <td>1.0</td>\n",
       "      <td>0.0</td>\n",
       "      <td>...</td>\n",
       "      <td>0.0</td>\n",
       "      <td>0.0</td>\n",
       "      <td>0.0</td>\n",
       "      <td>0.0</td>\n",
       "      <td>0.0</td>\n",
       "      <td>0.0</td>\n",
       "      <td>1.0</td>\n",
       "      <td>0.0</td>\n",
       "      <td>1.0</td>\n",
       "      <td>0.0</td>\n",
       "    </tr>\n",
       "    <tr>\n",
       "      <th>83708</th>\n",
       "      <td>0.480309</td>\n",
       "      <td>0.471633</td>\n",
       "      <td>0.359473</td>\n",
       "      <td>1.0</td>\n",
       "      <td>0.0</td>\n",
       "      <td>0.0</td>\n",
       "      <td>0.0</td>\n",
       "      <td>0.0</td>\n",
       "      <td>1.0</td>\n",
       "      <td>0.0</td>\n",
       "      <td>...</td>\n",
       "      <td>0.0</td>\n",
       "      <td>0.0</td>\n",
       "      <td>1.0</td>\n",
       "      <td>0.0</td>\n",
       "      <td>1.0</td>\n",
       "      <td>0.0</td>\n",
       "      <td>0.0</td>\n",
       "      <td>1.0</td>\n",
       "      <td>0.0</td>\n",
       "      <td>0.0</td>\n",
       "    </tr>\n",
       "    <tr>\n",
       "      <th>83709</th>\n",
       "      <td>-0.393255</td>\n",
       "      <td>0.119520</td>\n",
       "      <td>2.231775</td>\n",
       "      <td>0.0</td>\n",
       "      <td>0.0</td>\n",
       "      <td>1.0</td>\n",
       "      <td>0.0</td>\n",
       "      <td>1.0</td>\n",
       "      <td>0.0</td>\n",
       "      <td>0.0</td>\n",
       "      <td>...</td>\n",
       "      <td>1.0</td>\n",
       "      <td>0.0</td>\n",
       "      <td>0.0</td>\n",
       "      <td>1.0</td>\n",
       "      <td>0.0</td>\n",
       "      <td>0.0</td>\n",
       "      <td>0.0</td>\n",
       "      <td>1.0</td>\n",
       "      <td>0.0</td>\n",
       "      <td>0.0</td>\n",
       "    </tr>\n",
       "    <tr>\n",
       "      <th>83710</th>\n",
       "      <td>0.731354</td>\n",
       "      <td>-0.398092</td>\n",
       "      <td>0.004191</td>\n",
       "      <td>0.0</td>\n",
       "      <td>0.0</td>\n",
       "      <td>0.0</td>\n",
       "      <td>1.0</td>\n",
       "      <td>0.0</td>\n",
       "      <td>1.0</td>\n",
       "      <td>0.0</td>\n",
       "      <td>...</td>\n",
       "      <td>0.0</td>\n",
       "      <td>0.0</td>\n",
       "      <td>0.0</td>\n",
       "      <td>1.0</td>\n",
       "      <td>0.0</td>\n",
       "      <td>0.0</td>\n",
       "      <td>0.0</td>\n",
       "      <td>0.0</td>\n",
       "      <td>0.0</td>\n",
       "      <td>1.0</td>\n",
       "    </tr>\n",
       "    <tr>\n",
       "      <th>83711</th>\n",
       "      <td>0.962669</td>\n",
       "      <td>0.999803</td>\n",
       "      <td>-0.604068</td>\n",
       "      <td>0.0</td>\n",
       "      <td>0.0</td>\n",
       "      <td>0.0</td>\n",
       "      <td>1.0</td>\n",
       "      <td>0.0</td>\n",
       "      <td>0.0</td>\n",
       "      <td>0.0</td>\n",
       "      <td>...</td>\n",
       "      <td>0.0</td>\n",
       "      <td>0.0</td>\n",
       "      <td>0.0</td>\n",
       "      <td>0.0</td>\n",
       "      <td>0.0</td>\n",
       "      <td>0.0</td>\n",
       "      <td>1.0</td>\n",
       "      <td>1.0</td>\n",
       "      <td>0.0</td>\n",
       "      <td>0.0</td>\n",
       "    </tr>\n",
       "  </tbody>\n",
       "</table>\n",
       "<p>83712 rows × 23 columns</p>\n",
       "</div>"
      ],
      "text/plain": [
       "             0         1         2    3    4    5    6    7    8    9   ...  \\\n",
       "0     -0.031124 -1.702681  0.552921  0.0  1.0  0.0  0.0  0.0  1.0  0.0  ...   \n",
       "1      1.505477  1.776221 -0.524119  0.0  0.0  0.0  1.0  0.0  1.0  0.0  ...   \n",
       "2      0.427620  0.647690 -0.524119  0.0  0.0  1.0  0.0  0.0  0.0  0.0  ...   \n",
       "3      0.917385 -1.702681 -0.017053  0.0  1.0  0.0  0.0  0.0  1.0  0.0  ...   \n",
       "4      0.649150 -0.398092  0.004191  0.0  0.0  0.0  1.0  0.0  1.0  0.0  ...   \n",
       "...         ...       ...       ...  ...  ...  ...  ...  ...  ...  ...  ...   \n",
       "83707  0.595067  0.647690  0.975816  1.0  0.0  0.0  0.0  0.0  1.0  0.0  ...   \n",
       "83708  0.480309  0.471633  0.359473  1.0  0.0  0.0  0.0  0.0  1.0  0.0  ...   \n",
       "83709 -0.393255  0.119520  2.231775  0.0  0.0  1.0  0.0  1.0  0.0  0.0  ...   \n",
       "83710  0.731354 -0.398092  0.004191  0.0  0.0  0.0  1.0  0.0  1.0  0.0  ...   \n",
       "83711  0.962669  0.999803 -0.604068  0.0  0.0  0.0  1.0  0.0  0.0  0.0  ...   \n",
       "\n",
       "        13   14   15   16   17   18   19   20   21   22  \n",
       "0      0.0  0.0  1.0  0.0  1.0  0.0  0.0  0.0  0.0  1.0  \n",
       "1      0.0  0.0  0.0  0.0  0.0  0.0  1.0  1.0  0.0  0.0  \n",
       "2      0.0  0.0  1.0  0.0  0.0  0.0  1.0  0.0  1.0  0.0  \n",
       "3      0.0  0.0  1.0  0.0  1.0  0.0  0.0  0.0  0.0  1.0  \n",
       "4      0.0  0.0  0.0  1.0  0.0  0.0  0.0  0.0  0.0  1.0  \n",
       "...    ...  ...  ...  ...  ...  ...  ...  ...  ...  ...  \n",
       "83707  0.0  0.0  0.0  0.0  0.0  0.0  1.0  0.0  1.0  0.0  \n",
       "83708  0.0  0.0  1.0  0.0  1.0  0.0  0.0  1.0  0.0  0.0  \n",
       "83709  1.0  0.0  0.0  1.0  0.0  0.0  0.0  1.0  0.0  0.0  \n",
       "83710  0.0  0.0  0.0  1.0  0.0  0.0  0.0  0.0  0.0  1.0  \n",
       "83711  0.0  0.0  0.0  0.0  0.0  0.0  1.0  1.0  0.0  0.0  \n",
       "\n",
       "[83712 rows x 23 columns]"
      ]
     },
     "execution_count": 93,
     "metadata": {},
     "output_type": "execute_result"
    }
   ],
   "source": [
    "df_X_train = pd.DataFrame(X_train)\n",
    "df_X_train"
   ]
  },
  {
   "cell_type": "markdown",
   "metadata": {
    "id": "olLft5RW7P2o"
   },
   "source": [
    "# **Chạy mô hình**"
   ]
  },
  {
   "cell_type": "code",
   "execution_count": 94,
   "metadata": {
    "colab": {
     "base_uri": "https://localhost:8080/",
     "height": 75
    },
    "id": "8nd9Nu2-7RWB",
    "outputId": "65213ded-e39c-4356-cebd-80da61abf332"
   },
   "outputs": [
    {
     "data": {
      "text/plain": [
       "LinearRegression()"
      ]
     },
     "execution_count": 94,
     "metadata": {},
     "output_type": "execute_result"
    }
   ],
   "source": [
    "from sklearn import linear_model\n",
    "from sklearn.metrics import mean_squared_error\n",
    "from sklearn.metrics import r2_score\n",
    "#Khai báo mô hình\n",
    "linear_regression = linear_model.LinearRegression()\n",
    "\n",
    "#Huấn luyện mô hình\n",
    "linear_regression.fit(X_train, y_train)\n",
    "\n",
    "\n"
   ]
  },
  {
   "cell_type": "code",
   "execution_count": 95,
   "metadata": {
    "colab": {
     "base_uri": "https://localhost:8080/"
    },
    "id": "VIsNHdoLwVGu",
    "outputId": "168523ca-38d0-4e13-8e0d-038ca8820eed"
   },
   "outputs": [
    {
     "name": "stdout",
     "output_type": "stream",
     "text": [
      "R2 Score: 0.8273420690545799\n"
     ]
    }
   ],
   "source": [
    "y_pred = linear_regression.predict(X_test)\n",
    "r2 = r2_score(y_test, y_pred)\n",
    "print('R2 Score:',r2)"
   ]
  },
  {
   "cell_type": "code",
   "execution_count": 96,
   "metadata": {
    "colab": {
     "base_uri": "https://localhost:8080/"
    },
    "id": "MRz4NY0bxPgZ",
    "outputId": "6c11ee35-475d-4ffc-c0b2-bec465a5bc61"
   },
   "outputs": [
    {
     "name": "stdout",
     "output_type": "stream",
     "text": [
      "MSE: 10932652.29359979\n",
      "RMSE: 3306.456153285537\n"
     ]
    }
   ],
   "source": [
    "mse = mean_squared_error(y_test, y_pred)\n",
    "rmse = np.sqrt(mse)\n",
    "print('MSE:',mse)\n",
    "print('RMSE:',rmse)\n",
    "\n"
   ]
  },
  {
   "cell_type": "code",
   "execution_count": 97,
   "metadata": {
    "colab": {
     "base_uri": "https://localhost:8080/",
     "height": 539
    },
    "id": "bYfRPuF3x9fJ",
    "outputId": "af99b456-f02c-4331-92c6-d52219868e00"
   },
   "outputs": [
    {
     "data": {
      "image/png": "[encoded data removed]",
      "text/plain": [
       "<Figure size 800x550 with 1 Axes>"
      ]
     },
     "metadata": {},
     "output_type": "display_data"
    }
   ],
   "source": [
    "y_pred = linear_regression.predict(X_test)\n",
    "residuals = y_test - y_pred\n",
    "plt.scatter(y_pred, residuals)\n",
    "plt.axhline(y=0, color='r', linestyle='--')\n",
    "plt.xlabel(\"Predicted Values\")\n",
    "plt.ylabel(\"Residuals\")\n",
    "plt.title(\"Residual Plot\")\n",
    "plt.show()"
   ]
  },
  {
   "cell_type": "markdown",
   "metadata": {
    "id": "xr05MFjqjs4Y"
   },
   "source": [
    "# Mô hình OLS"
   ]
  },
  {
   "cell_type": "code",
   "execution_count": 98,
   "metadata": {},
   "outputs": [],
   "source": [
    "# pd.set_option('display.max_columns', None)\n",
    "# pd.set_option('display.max_rows', None)\n",
    "\n",
    "pd.reset_option('display.max_rows')\n",
    "pd.reset_option('display.max_columns')"
   ]
  },
  {
   "cell_type": "code",
   "execution_count": 99,
   "metadata": {},
   "outputs": [],
   "source": [
    "#Mã hóa các cột category\n",
    "# Thực hiện encode cho các cột categorical\n",
    "X['price'] = y\n",
    "cat_cols = ['year', 'transmission','fuelType','engineSize','Class']\n",
    "for cat_col in cat_cols:\n",
    "    min_value = X.groupby(cat_col)['price'].sum().sort_values().index[0]\n",
    "    values = X[cat_col].unique()\n",
    "    for value in values:\n",
    "        X[value] = X[cat_col].apply(lambda x: 0 if x == min_value else (1 if x == value else 0))\n",
    "del X['price']\n"
   ]
  },
  {
   "cell_type": "code",
   "execution_count": 100,
   "metadata": {},
   "outputs": [
    {
     "data": {
      "text/html": [
       "<div>\n",
       "<style scoped>\n",
       "    .dataframe tbody tr th:only-of-type {\n",
       "        vertical-align: middle;\n",
       "    }\n",
       "\n",
       "    .dataframe tbody tr th {\n",
       "        vertical-align: top;\n",
       "    }\n",
       "\n",
       "    .dataframe thead th {\n",
       "        text-align: right;\n",
       "    }\n",
       "</style>\n",
       "<table border=\"1\" class=\"dataframe\">\n",
       "  <thead>\n",
       "    <tr style=\"text-align: right;\">\n",
       "      <th></th>\n",
       "      <th>ln_mileage</th>\n",
       "      <th>tax</th>\n",
       "      <th>ln_mpg</th>\n",
       "      <th>2-4 năm</th>\n",
       "      <th>dưới 2 năm</th>\n",
       "      <th>4-5 năm</th>\n",
       "      <th>hơn 5 năm</th>\n",
       "      <th>Manual</th>\n",
       "      <th>Automatic</th>\n",
       "      <th>Semi-Auto</th>\n",
       "      <th>...</th>\n",
       "      <th>Diesel</th>\n",
       "      <th>Hybrid</th>\n",
       "      <th>Electric</th>\n",
       "      <th>Medium</th>\n",
       "      <th>Large</th>\n",
       "      <th>Small</th>\n",
       "      <th>Very Large</th>\n",
       "      <th>Affordable</th>\n",
       "      <th>Luxury</th>\n",
       "      <th>Mid-range</th>\n",
       "    </tr>\n",
       "  </thead>\n",
       "  <tbody>\n",
       "    <tr>\n",
       "      <th>0</th>\n",
       "      <td>9.197863</td>\n",
       "      <td>145.000000</td>\n",
       "      <td>4.014580</td>\n",
       "      <td>1</td>\n",
       "      <td>0</td>\n",
       "      <td>0</td>\n",
       "      <td>0</td>\n",
       "      <td>1</td>\n",
       "      <td>0</td>\n",
       "      <td>0</td>\n",
       "      <td>...</td>\n",
       "      <td>0</td>\n",
       "      <td>0</td>\n",
       "      <td>0</td>\n",
       "      <td>0</td>\n",
       "      <td>0</td>\n",
       "      <td>0</td>\n",
       "      <td>0</td>\n",
       "      <td>1</td>\n",
       "      <td>0</td>\n",
       "      <td>0</td>\n",
       "    </tr>\n",
       "    <tr>\n",
       "      <th>1</th>\n",
       "      <td>7.824046</td>\n",
       "      <td>145.000000</td>\n",
       "      <td>3.994524</td>\n",
       "      <td>0</td>\n",
       "      <td>1</td>\n",
       "      <td>0</td>\n",
       "      <td>0</td>\n",
       "      <td>1</td>\n",
       "      <td>0</td>\n",
       "      <td>0</td>\n",
       "      <td>...</td>\n",
       "      <td>0</td>\n",
       "      <td>0</td>\n",
       "      <td>0</td>\n",
       "      <td>0</td>\n",
       "      <td>0</td>\n",
       "      <td>0</td>\n",
       "      <td>0</td>\n",
       "      <td>1</td>\n",
       "      <td>0</td>\n",
       "      <td>0</td>\n",
       "    </tr>\n",
       "    <tr>\n",
       "      <th>2</th>\n",
       "      <td>9.172119</td>\n",
       "      <td>145.000000</td>\n",
       "      <td>3.869116</td>\n",
       "      <td>1</td>\n",
       "      <td>0</td>\n",
       "      <td>0</td>\n",
       "      <td>0</td>\n",
       "      <td>0</td>\n",
       "      <td>1</td>\n",
       "      <td>0</td>\n",
       "      <td>...</td>\n",
       "      <td>0</td>\n",
       "      <td>0</td>\n",
       "      <td>0</td>\n",
       "      <td>0</td>\n",
       "      <td>0</td>\n",
       "      <td>0</td>\n",
       "      <td>0</td>\n",
       "      <td>1</td>\n",
       "      <td>0</td>\n",
       "      <td>0</td>\n",
       "    </tr>\n",
       "    <tr>\n",
       "      <th>3</th>\n",
       "      <td>10.157975</td>\n",
       "      <td>83.249594</td>\n",
       "      <td>4.014580</td>\n",
       "      <td>0</td>\n",
       "      <td>0</td>\n",
       "      <td>1</td>\n",
       "      <td>0</td>\n",
       "      <td>1</td>\n",
       "      <td>0</td>\n",
       "      <td>0</td>\n",
       "      <td>...</td>\n",
       "      <td>0</td>\n",
       "      <td>0</td>\n",
       "      <td>0</td>\n",
       "      <td>0</td>\n",
       "      <td>0</td>\n",
       "      <td>0</td>\n",
       "      <td>0</td>\n",
       "      <td>1</td>\n",
       "      <td>0</td>\n",
       "      <td>0</td>\n",
       "    </tr>\n",
       "    <tr>\n",
       "      <th>4</th>\n",
       "      <td>8.265393</td>\n",
       "      <td>145.000000</td>\n",
       "      <td>3.772761</td>\n",
       "      <td>0</td>\n",
       "      <td>1</td>\n",
       "      <td>0</td>\n",
       "      <td>0</td>\n",
       "      <td>1</td>\n",
       "      <td>0</td>\n",
       "      <td>0</td>\n",
       "      <td>...</td>\n",
       "      <td>0</td>\n",
       "      <td>0</td>\n",
       "      <td>0</td>\n",
       "      <td>0</td>\n",
       "      <td>0</td>\n",
       "      <td>0</td>\n",
       "      <td>0</td>\n",
       "      <td>1</td>\n",
       "      <td>0</td>\n",
       "      <td>0</td>\n",
       "    </tr>\n",
       "    <tr>\n",
       "      <th>...</th>\n",
       "      <td>...</td>\n",
       "      <td>...</td>\n",
       "      <td>...</td>\n",
       "      <td>...</td>\n",
       "      <td>...</td>\n",
       "      <td>...</td>\n",
       "      <td>...</td>\n",
       "      <td>...</td>\n",
       "      <td>...</td>\n",
       "      <td>...</td>\n",
       "      <td>...</td>\n",
       "      <td>...</td>\n",
       "      <td>...</td>\n",
       "      <td>...</td>\n",
       "      <td>...</td>\n",
       "      <td>...</td>\n",
       "      <td>...</td>\n",
       "      <td>...</td>\n",
       "      <td>...</td>\n",
       "      <td>...</td>\n",
       "      <td>...</td>\n",
       "    </tr>\n",
       "    <tr>\n",
       "      <th>104636</th>\n",
       "      <td>6.745460</td>\n",
       "      <td>145.000000</td>\n",
       "      <td>4.014580</td>\n",
       "      <td>0</td>\n",
       "      <td>1</td>\n",
       "      <td>0</td>\n",
       "      <td>0</td>\n",
       "      <td>0</td>\n",
       "      <td>1</td>\n",
       "      <td>0</td>\n",
       "      <td>...</td>\n",
       "      <td>1</td>\n",
       "      <td>0</td>\n",
       "      <td>0</td>\n",
       "      <td>0</td>\n",
       "      <td>0</td>\n",
       "      <td>0</td>\n",
       "      <td>1</td>\n",
       "      <td>0</td>\n",
       "      <td>1</td>\n",
       "      <td>0</td>\n",
       "    </tr>\n",
       "    <tr>\n",
       "      <th>104637</th>\n",
       "      <td>7.824046</td>\n",
       "      <td>145.000000</td>\n",
       "      <td>4.014580</td>\n",
       "      <td>0</td>\n",
       "      <td>1</td>\n",
       "      <td>0</td>\n",
       "      <td>0</td>\n",
       "      <td>0</td>\n",
       "      <td>1</td>\n",
       "      <td>0</td>\n",
       "      <td>...</td>\n",
       "      <td>1</td>\n",
       "      <td>0</td>\n",
       "      <td>0</td>\n",
       "      <td>0</td>\n",
       "      <td>0</td>\n",
       "      <td>0</td>\n",
       "      <td>1</td>\n",
       "      <td>0</td>\n",
       "      <td>1</td>\n",
       "      <td>0</td>\n",
       "    </tr>\n",
       "    <tr>\n",
       "      <th>104638</th>\n",
       "      <td>9.359794</td>\n",
       "      <td>145.000000</td>\n",
       "      <td>3.725693</td>\n",
       "      <td>0</td>\n",
       "      <td>1</td>\n",
       "      <td>0</td>\n",
       "      <td>0</td>\n",
       "      <td>0</td>\n",
       "      <td>1</td>\n",
       "      <td>0</td>\n",
       "      <td>...</td>\n",
       "      <td>1</td>\n",
       "      <td>0</td>\n",
       "      <td>0</td>\n",
       "      <td>0</td>\n",
       "      <td>0</td>\n",
       "      <td>0</td>\n",
       "      <td>1</td>\n",
       "      <td>0</td>\n",
       "      <td>1</td>\n",
       "      <td>0</td>\n",
       "    </tr>\n",
       "    <tr>\n",
       "      <th>104639</th>\n",
       "      <td>7.793999</td>\n",
       "      <td>145.000000</td>\n",
       "      <td>3.819908</td>\n",
       "      <td>0</td>\n",
       "      <td>1</td>\n",
       "      <td>0</td>\n",
       "      <td>0</td>\n",
       "      <td>0</td>\n",
       "      <td>1</td>\n",
       "      <td>0</td>\n",
       "      <td>...</td>\n",
       "      <td>1</td>\n",
       "      <td>0</td>\n",
       "      <td>0</td>\n",
       "      <td>0</td>\n",
       "      <td>0</td>\n",
       "      <td>0</td>\n",
       "      <td>1</td>\n",
       "      <td>0</td>\n",
       "      <td>1</td>\n",
       "      <td>0</td>\n",
       "    </tr>\n",
       "    <tr>\n",
       "      <th>104640</th>\n",
       "      <td>7.637716</td>\n",
       "      <td>145.000000</td>\n",
       "      <td>3.956996</td>\n",
       "      <td>0</td>\n",
       "      <td>1</td>\n",
       "      <td>0</td>\n",
       "      <td>0</td>\n",
       "      <td>0</td>\n",
       "      <td>1</td>\n",
       "      <td>0</td>\n",
       "      <td>...</td>\n",
       "      <td>1</td>\n",
       "      <td>0</td>\n",
       "      <td>0</td>\n",
       "      <td>0</td>\n",
       "      <td>0</td>\n",
       "      <td>0</td>\n",
       "      <td>1</td>\n",
       "      <td>0</td>\n",
       "      <td>1</td>\n",
       "      <td>0</td>\n",
       "    </tr>\n",
       "  </tbody>\n",
       "</table>\n",
       "<p>104641 rows × 22 columns</p>\n",
       "</div>"
      ],
      "text/plain": [
       "        ln_mileage         tax    ln_mpg  2-4 năm  dưới 2 năm  4-5 năm  \\\n",
       "0         9.197863  145.000000  4.014580        1           0        0   \n",
       "1         7.824046  145.000000  3.994524        0           1        0   \n",
       "2         9.172119  145.000000  3.869116        1           0        0   \n",
       "3        10.157975   83.249594  4.014580        0           0        1   \n",
       "4         8.265393  145.000000  3.772761        0           1        0   \n",
       "...            ...         ...       ...      ...         ...      ...   \n",
       "104636    6.745460  145.000000  4.014580        0           1        0   \n",
       "104637    7.824046  145.000000  4.014580        0           1        0   \n",
       "104638    9.359794  145.000000  3.725693        0           1        0   \n",
       "104639    7.793999  145.000000  3.819908        0           1        0   \n",
       "104640    7.637716  145.000000  3.956996        0           1        0   \n",
       "\n",
       "        hơn 5 năm  Manual  Automatic  Semi-Auto  ...  Diesel  Hybrid  \\\n",
       "0               0       1          0          0  ...       0       0   \n",
       "1               0       1          0          0  ...       0       0   \n",
       "2               0       0          1          0  ...       0       0   \n",
       "3               0       1          0          0  ...       0       0   \n",
       "4               0       1          0          0  ...       0       0   \n",
       "...           ...     ...        ...        ...  ...     ...     ...   \n",
       "104636          0       0          1          0  ...       1       0   \n",
       "104637          0       0          1          0  ...       1       0   \n",
       "104638          0       0          1          0  ...       1       0   \n",
       "104639          0       0          1          0  ...       1       0   \n",
       "104640          0       0          1          0  ...       1       0   \n",
       "\n",
       "        Electric  Medium  Large  Small  Very Large  Affordable  Luxury  \\\n",
       "0              0       0      0      0           0           1       0   \n",
       "1              0       0      0      0           0           1       0   \n",
       "2              0       0      0      0           0           1       0   \n",
       "3              0       0      0      0           0           1       0   \n",
       "4              0       0      0      0           0           1       0   \n",
       "...          ...     ...    ...    ...         ...         ...     ...   \n",
       "104636         0       0      0      0           1           0       1   \n",
       "104637         0       0      0      0           1           0       1   \n",
       "104638         0       0      0      0           1           0       1   \n",
       "104639         0       0      0      0           1           0       1   \n",
       "104640         0       0      0      0           1           0       1   \n",
       "\n",
       "        Mid-range  \n",
       "0               0  \n",
       "1               0  \n",
       "2               0  \n",
       "3               0  \n",
       "4               0  \n",
       "...           ...  \n",
       "104636          0  \n",
       "104637          0  \n",
       "104638          0  \n",
       "104639          0  \n",
       "104640          0  \n",
       "\n",
       "[104641 rows x 22 columns]"
      ]
     },
     "execution_count": 100,
     "metadata": {},
     "output_type": "execute_result"
    }
   ],
   "source": [
    "remove_cols = cat_cols\n",
    "X = X.drop(columns = remove_cols,axis =1)\n",
    "X"
   ]
  },
  {
   "cell_type": "code",
   "execution_count": 101,
   "metadata": {},
   "outputs": [
    {
     "data": {
      "text/html": [
       "<div>\n",
       "<style scoped>\n",
       "    .dataframe tbody tr th:only-of-type {\n",
       "        vertical-align: middle;\n",
       "    }\n",
       "\n",
       "    .dataframe tbody tr th {\n",
       "        vertical-align: top;\n",
       "    }\n",
       "\n",
       "    .dataframe thead th {\n",
       "        text-align: right;\n",
       "    }\n",
       "</style>\n",
       "<table border=\"1\" class=\"dataframe\">\n",
       "  <thead>\n",
       "    <tr style=\"text-align: right;\">\n",
       "      <th></th>\n",
       "      <th>ln_mileage</th>\n",
       "      <th>tax</th>\n",
       "      <th>ln_mpg</th>\n",
       "      <th>2-4 năm</th>\n",
       "      <th>dưới 2 năm</th>\n",
       "      <th>4-5 năm</th>\n",
       "      <th>hơn 5 năm</th>\n",
       "      <th>Manual</th>\n",
       "      <th>Automatic</th>\n",
       "      <th>Semi-Auto</th>\n",
       "      <th>...</th>\n",
       "      <th>Diesel</th>\n",
       "      <th>Hybrid</th>\n",
       "      <th>Electric</th>\n",
       "      <th>Medium</th>\n",
       "      <th>Large</th>\n",
       "      <th>Small</th>\n",
       "      <th>Very Large</th>\n",
       "      <th>Affordable</th>\n",
       "      <th>Luxury</th>\n",
       "      <th>Mid-range</th>\n",
       "    </tr>\n",
       "  </thead>\n",
       "  <tbody>\n",
       "    <tr>\n",
       "      <th>0</th>\n",
       "      <td>-0.312344</td>\n",
       "      <td>0.471633</td>\n",
       "      <td>0.166382</td>\n",
       "      <td>1</td>\n",
       "      <td>0</td>\n",
       "      <td>0</td>\n",
       "      <td>0</td>\n",
       "      <td>1</td>\n",
       "      <td>0</td>\n",
       "      <td>0</td>\n",
       "      <td>...</td>\n",
       "      <td>0</td>\n",
       "      <td>0</td>\n",
       "      <td>0</td>\n",
       "      <td>0</td>\n",
       "      <td>0</td>\n",
       "      <td>0</td>\n",
       "      <td>0</td>\n",
       "      <td>1</td>\n",
       "      <td>0</td>\n",
       "      <td>0</td>\n",
       "    </tr>\n",
       "    <tr>\n",
       "      <th>1</th>\n",
       "      <td>-1.514840</td>\n",
       "      <td>0.471633</td>\n",
       "      <td>0.071181</td>\n",
       "      <td>0</td>\n",
       "      <td>1</td>\n",
       "      <td>0</td>\n",
       "      <td>0</td>\n",
       "      <td>1</td>\n",
       "      <td>0</td>\n",
       "      <td>0</td>\n",
       "      <td>...</td>\n",
       "      <td>0</td>\n",
       "      <td>0</td>\n",
       "      <td>0</td>\n",
       "      <td>0</td>\n",
       "      <td>0</td>\n",
       "      <td>0</td>\n",
       "      <td>0</td>\n",
       "      <td>1</td>\n",
       "      <td>0</td>\n",
       "      <td>0</td>\n",
       "    </tr>\n",
       "    <tr>\n",
       "      <th>2</th>\n",
       "      <td>-0.334877</td>\n",
       "      <td>0.471633</td>\n",
       "      <td>-0.524119</td>\n",
       "      <td>1</td>\n",
       "      <td>0</td>\n",
       "      <td>0</td>\n",
       "      <td>0</td>\n",
       "      <td>0</td>\n",
       "      <td>1</td>\n",
       "      <td>0</td>\n",
       "      <td>...</td>\n",
       "      <td>0</td>\n",
       "      <td>0</td>\n",
       "      <td>0</td>\n",
       "      <td>0</td>\n",
       "      <td>0</td>\n",
       "      <td>0</td>\n",
       "      <td>0</td>\n",
       "      <td>1</td>\n",
       "      <td>0</td>\n",
       "      <td>0</td>\n",
       "    </tr>\n",
       "    <tr>\n",
       "      <th>3</th>\n",
       "      <td>0.528039</td>\n",
       "      <td>-1.702681</td>\n",
       "      <td>0.166382</td>\n",
       "      <td>0</td>\n",
       "      <td>0</td>\n",
       "      <td>1</td>\n",
       "      <td>0</td>\n",
       "      <td>1</td>\n",
       "      <td>0</td>\n",
       "      <td>0</td>\n",
       "      <td>...</td>\n",
       "      <td>0</td>\n",
       "      <td>0</td>\n",
       "      <td>0</td>\n",
       "      <td>0</td>\n",
       "      <td>0</td>\n",
       "      <td>0</td>\n",
       "      <td>0</td>\n",
       "      <td>1</td>\n",
       "      <td>0</td>\n",
       "      <td>0</td>\n",
       "    </tr>\n",
       "    <tr>\n",
       "      <th>4</th>\n",
       "      <td>-1.128531</td>\n",
       "      <td>0.471633</td>\n",
       "      <td>-0.981502</td>\n",
       "      <td>0</td>\n",
       "      <td>1</td>\n",
       "      <td>0</td>\n",
       "      <td>0</td>\n",
       "      <td>1</td>\n",
       "      <td>0</td>\n",
       "      <td>0</td>\n",
       "      <td>...</td>\n",
       "      <td>0</td>\n",
       "      <td>0</td>\n",
       "      <td>0</td>\n",
       "      <td>0</td>\n",
       "      <td>0</td>\n",
       "      <td>0</td>\n",
       "      <td>0</td>\n",
       "      <td>1</td>\n",
       "      <td>0</td>\n",
       "      <td>0</td>\n",
       "    </tr>\n",
       "    <tr>\n",
       "      <th>...</th>\n",
       "      <td>...</td>\n",
       "      <td>...</td>\n",
       "      <td>...</td>\n",
       "      <td>...</td>\n",
       "      <td>...</td>\n",
       "      <td>...</td>\n",
       "      <td>...</td>\n",
       "      <td>...</td>\n",
       "      <td>...</td>\n",
       "      <td>...</td>\n",
       "      <td>...</td>\n",
       "      <td>...</td>\n",
       "      <td>...</td>\n",
       "      <td>...</td>\n",
       "      <td>...</td>\n",
       "      <td>...</td>\n",
       "      <td>...</td>\n",
       "      <td>...</td>\n",
       "      <td>...</td>\n",
       "      <td>...</td>\n",
       "      <td>...</td>\n",
       "    </tr>\n",
       "    <tr>\n",
       "      <th>104636</th>\n",
       "      <td>-2.458923</td>\n",
       "      <td>0.471633</td>\n",
       "      <td>0.166382</td>\n",
       "      <td>0</td>\n",
       "      <td>1</td>\n",
       "      <td>0</td>\n",
       "      <td>0</td>\n",
       "      <td>0</td>\n",
       "      <td>1</td>\n",
       "      <td>0</td>\n",
       "      <td>...</td>\n",
       "      <td>1</td>\n",
       "      <td>0</td>\n",
       "      <td>0</td>\n",
       "      <td>0</td>\n",
       "      <td>0</td>\n",
       "      <td>0</td>\n",
       "      <td>1</td>\n",
       "      <td>0</td>\n",
       "      <td>1</td>\n",
       "      <td>0</td>\n",
       "    </tr>\n",
       "    <tr>\n",
       "      <th>104637</th>\n",
       "      <td>-1.514840</td>\n",
       "      <td>0.471633</td>\n",
       "      <td>0.166382</td>\n",
       "      <td>0</td>\n",
       "      <td>1</td>\n",
       "      <td>0</td>\n",
       "      <td>0</td>\n",
       "      <td>0</td>\n",
       "      <td>1</td>\n",
       "      <td>0</td>\n",
       "      <td>...</td>\n",
       "      <td>1</td>\n",
       "      <td>0</td>\n",
       "      <td>0</td>\n",
       "      <td>0</td>\n",
       "      <td>0</td>\n",
       "      <td>0</td>\n",
       "      <td>1</td>\n",
       "      <td>0</td>\n",
       "      <td>1</td>\n",
       "      <td>0</td>\n",
       "    </tr>\n",
       "    <tr>\n",
       "      <th>104638</th>\n",
       "      <td>-0.170605</td>\n",
       "      <td>0.471633</td>\n",
       "      <td>-1.204926</td>\n",
       "      <td>0</td>\n",
       "      <td>1</td>\n",
       "      <td>0</td>\n",
       "      <td>0</td>\n",
       "      <td>0</td>\n",
       "      <td>1</td>\n",
       "      <td>0</td>\n",
       "      <td>...</td>\n",
       "      <td>1</td>\n",
       "      <td>0</td>\n",
       "      <td>0</td>\n",
       "      <td>0</td>\n",
       "      <td>0</td>\n",
       "      <td>0</td>\n",
       "      <td>1</td>\n",
       "      <td>0</td>\n",
       "      <td>1</td>\n",
       "      <td>0</td>\n",
       "    </tr>\n",
       "    <tr>\n",
       "      <th>104639</th>\n",
       "      <td>-1.541140</td>\n",
       "      <td>0.471633</td>\n",
       "      <td>-0.757702</td>\n",
       "      <td>0</td>\n",
       "      <td>1</td>\n",
       "      <td>0</td>\n",
       "      <td>0</td>\n",
       "      <td>0</td>\n",
       "      <td>1</td>\n",
       "      <td>0</td>\n",
       "      <td>...</td>\n",
       "      <td>1</td>\n",
       "      <td>0</td>\n",
       "      <td>0</td>\n",
       "      <td>0</td>\n",
       "      <td>0</td>\n",
       "      <td>0</td>\n",
       "      <td>1</td>\n",
       "      <td>0</td>\n",
       "      <td>1</td>\n",
       "      <td>0</td>\n",
       "    </tr>\n",
       "    <tr>\n",
       "      <th>104640</th>\n",
       "      <td>-1.677934</td>\n",
       "      <td>0.471633</td>\n",
       "      <td>-0.106959</td>\n",
       "      <td>0</td>\n",
       "      <td>1</td>\n",
       "      <td>0</td>\n",
       "      <td>0</td>\n",
       "      <td>0</td>\n",
       "      <td>1</td>\n",
       "      <td>0</td>\n",
       "      <td>...</td>\n",
       "      <td>1</td>\n",
       "      <td>0</td>\n",
       "      <td>0</td>\n",
       "      <td>0</td>\n",
       "      <td>0</td>\n",
       "      <td>0</td>\n",
       "      <td>1</td>\n",
       "      <td>0</td>\n",
       "      <td>1</td>\n",
       "      <td>0</td>\n",
       "    </tr>\n",
       "  </tbody>\n",
       "</table>\n",
       "<p>104641 rows × 22 columns</p>\n",
       "</div>"
      ],
      "text/plain": [
       "        ln_mileage       tax    ln_mpg  2-4 năm  dưới 2 năm  4-5 năm  \\\n",
       "0        -0.312344  0.471633  0.166382        1           0        0   \n",
       "1        -1.514840  0.471633  0.071181        0           1        0   \n",
       "2        -0.334877  0.471633 -0.524119        1           0        0   \n",
       "3         0.528039 -1.702681  0.166382        0           0        1   \n",
       "4        -1.128531  0.471633 -0.981502        0           1        0   \n",
       "...            ...       ...       ...      ...         ...      ...   \n",
       "104636   -2.458923  0.471633  0.166382        0           1        0   \n",
       "104637   -1.514840  0.471633  0.166382        0           1        0   \n",
       "104638   -0.170605  0.471633 -1.204926        0           1        0   \n",
       "104639   -1.541140  0.471633 -0.757702        0           1        0   \n",
       "104640   -1.677934  0.471633 -0.106959        0           1        0   \n",
       "\n",
       "        hơn 5 năm  Manual  Automatic  Semi-Auto  ...  Diesel  Hybrid  \\\n",
       "0               0       1          0          0  ...       0       0   \n",
       "1               0       1          0          0  ...       0       0   \n",
       "2               0       0          1          0  ...       0       0   \n",
       "3               0       1          0          0  ...       0       0   \n",
       "4               0       1          0          0  ...       0       0   \n",
       "...           ...     ...        ...        ...  ...     ...     ...   \n",
       "104636          0       0          1          0  ...       1       0   \n",
       "104637          0       0          1          0  ...       1       0   \n",
       "104638          0       0          1          0  ...       1       0   \n",
       "104639          0       0          1          0  ...       1       0   \n",
       "104640          0       0          1          0  ...       1       0   \n",
       "\n",
       "        Electric  Medium  Large  Small  Very Large  Affordable  Luxury  \\\n",
       "0              0       0      0      0           0           1       0   \n",
       "1              0       0      0      0           0           1       0   \n",
       "2              0       0      0      0           0           1       0   \n",
       "3              0       0      0      0           0           1       0   \n",
       "4              0       0      0      0           0           1       0   \n",
       "...          ...     ...    ...    ...         ...         ...     ...   \n",
       "104636         0       0      0      0           1           0       1   \n",
       "104637         0       0      0      0           1           0       1   \n",
       "104638         0       0      0      0           1           0       1   \n",
       "104639         0       0      0      0           1           0       1   \n",
       "104640         0       0      0      0           1           0       1   \n",
       "\n",
       "        Mid-range  \n",
       "0               0  \n",
       "1               0  \n",
       "2               0  \n",
       "3               0  \n",
       "4               0  \n",
       "...           ...  \n",
       "104636          0  \n",
       "104637          0  \n",
       "104638          0  \n",
       "104639          0  \n",
       "104640          0  \n",
       "\n",
       "[104641 rows x 22 columns]"
      ]
     },
     "execution_count": 101,
     "metadata": {},
     "output_type": "execute_result"
    }
   ],
   "source": [
    "# Thực hiện scaler cho các cột numerical\n",
    "from sklearn.preprocessing import StandardScaler\n",
    "num_cols = ['ln_mileage','tax','ln_mpg']\n",
    "scaler = StandardScaler()\n",
    "X[num_cols] = pd.DataFrame(data = scaler.fit_transform(X[num_cols]), columns= num_cols)\n",
    "X\n"
   ]
  },
  {
   "cell_type": "code",
   "execution_count": 102,
   "metadata": {},
   "outputs": [
    {
     "data": {
      "text/plain": [
       "(83712, 20929)"
      ]
     },
     "execution_count": 102,
     "metadata": {},
     "output_type": "execute_result"
    }
   ],
   "source": [
    "#Chia bộ dữ liệu\n",
    "from sklearn.model_selection import train_test_split\n",
    "X_train, X_test, y_train, y_test = train_test_split(X,y, train_size = 0.8)\n",
    "len(X_train), len(X_test)"
   ]
  },
  {
   "cell_type": "code",
   "execution_count": 103,
   "metadata": {},
   "outputs": [],
   "source": [
    "import statsmodels.api as sm\n"
   ]
  },
  {
   "cell_type": "code",
   "execution_count": 104,
   "metadata": {},
   "outputs": [],
   "source": [
    "#Huấn luyện mô hình\n",
    "model = sm.OLS(y_train, X_train)\n",
    "\n",
    "results = model.fit()"
   ]
  },
  {
   "cell_type": "code",
   "execution_count": 105,
   "metadata": {},
   "outputs": [
    {
     "data": {
      "image/png": "[encoded data removed]",
      "text/plain": [
       "<Figure size 800x550 with 1 Axes>"
      ]
     },
     "metadata": {},
     "output_type": "display_data"
    }
   ],
   "source": [
    "y_pred = results.predict(X_test)\n",
    "residuals = y_test - y_pred\n",
    "plt.scatter(y_pred, residuals)\n",
    "plt.axhline(y=0, color='r', linestyle='--')\n",
    "plt.xlabel(\"Predicted Values\")\n",
    "plt.ylabel(\"Residuals\")\n",
    "plt.title(\"Residual Plot\")\n",
    "plt.show()"
   ]
  },
  {
   "cell_type": "code",
   "execution_count": 106,
   "metadata": {},
   "outputs": [
    {
     "name": "stdout",
     "output_type": "stream",
     "text": [
      "Độ chính xác của OLS: 0.8242681541500149\n"
     ]
    }
   ],
   "source": [
    "print('Độ chính xác của OLS:',r2_score(y_test,y_pred))"
   ]
  },
  {
   "cell_type": "code",
   "execution_count": 107,
   "metadata": {},
   "outputs": [
    {
     "name": "stdout",
     "output_type": "stream",
     "text": [
      "MSE: 11126387.770317439\n",
      "RMSE: 3335.624045110216\n"
     ]
    }
   ],
   "source": [
    "# Calculate MSE\n",
    "mse = mean_squared_error(y_test, y_pred)\n",
    "\n",
    "# Calculate RMSE\n",
    "rmse = np.sqrt(mse)\n",
    "\n",
    "print(\"MSE:\", mse)\n",
    "print(\"RMSE:\", rmse)"
   ]
  },
  {
   "cell_type": "code",
   "execution_count": 108,
   "metadata": {},
   "outputs": [
    {
     "name": "stdout",
     "output_type": "stream",
     "text": [
      "Thuc hien save model ra file\n",
      "Da xuat file thanh cong =LN-prediction-model.pkl\n"
     ]
    }
   ],
   "source": [
    "import pickle\n",
    "\n",
    "print(\"Thuc hien save model ra file\")\n",
    "# Creating a pickle file for the classifier\n",
    "filename = 'LN-prediction-model.pkl'\n",
    "pickle.dump(linear_regression, open(filename, 'wb'))\n",
    "print(\"Da xuat file thanh cong =\" + filename)"
   ]
  }
 ],
 "metadata": {
  "colab": {
   "collapsed_sections": [
    "NZrtsHPsIkoj",
    "LUEPn0a8Ionz",
    "wLFc42dJqMCY"
   ],
   "provenance": []
  },
  "kernelspec": {
   "display_name": "Python 3",
   "language": "python",
   "name": "python3"
  },
  "language_info": {
   "codemirror_mode": {
    "name": "ipython",
    "version": 3
   },
   "file_extension": ".py",
   "mimetype": "text/x-python",
   "name": "python",
   "nbconvert_exporter": "python",
   "pygments_lexer": "ipython3",
   "version": "3.7.1"
  }
 },
 "nbformat": 4,
 "nbformat_minor": 1
}
